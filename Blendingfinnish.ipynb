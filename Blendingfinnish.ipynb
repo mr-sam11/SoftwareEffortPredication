{
 "cells": [
  {
   "cell_type": "code",
   "execution_count": 1,
   "metadata": {},
   "outputs": [],
   "source": [
    "# Importing the libraries\n",
    "import numpy as np \n",
    "import pandas as pd\n",
    "\n",
    "\n",
    "# scikit-learn modules\n",
    "from sklearn.model_selection import train_test_split\n",
    "from sklearn.metrics import mean_squared_error, r2_score\n",
    "from sklearn.preprocessing import MinMaxScaler\n",
    "\n",
    "# Reading the data\n",
    "# Reading the data\n",
    "dataset = pd.read_csv(\"Dataset\\\\finnish.arff.csv\")\n",
    "x = np.array(dataset.drop(['Effort'],axis=1))\n",
    "y = np.array(dataset['Effort'])"
   ]
  },
  {
   "cell_type": "code",
   "execution_count": 2,
   "metadata": {},
   "outputs": [],
   "source": [
    "scaler=MinMaxScaler(feature_range=(0,1))\n",
    "x=scaler.fit_transform(x)\n",
    "y=np.reshape(y,(38,1))\n",
    "y=scaler.fit_transform(y)"
   ]
  },
  {
   "cell_type": "code",
   "execution_count": 3,
   "metadata": {},
   "outputs": [],
   "source": [
    "x_train_full, x_test, y_train_full, y_test = train_test_split(x, y, test_size = 0.2, random_state =67)"
   ]
  },
  {
   "cell_type": "code",
   "execution_count": 4,
   "metadata": {},
   "outputs": [],
   "source": [
    "x_train, x_val, y_train, y_val = train_test_split(x_train_full, y_train_full, test_size=0.33, random_state=1)"
   ]
  },
  {
   "cell_type": "code",
   "execution_count": 5,
   "metadata": {},
   "outputs": [
    {
     "name": "stderr",
     "output_type": "stream",
     "text": [
      "c:\\Users\\sachi\\AppData\\Local\\Programs\\Python\\Python310\\lib\\site-packages\\sklearn\\utils\\validation.py:993: DataConversionWarning: A column-vector y was passed when a 1d array was expected. Please change the shape of y to (n_samples, ), for example using ravel().\n",
      "  y = column_or_1d(y, warn=True)\n"
     ]
    }
   ],
   "source": [
    "from sklearn.tree import DecisionTreeRegressor\n",
    "from sklearn.neighbors import KNeighborsRegressor\n",
    "from sklearn.linear_model import LinearRegression\n",
    "from sklearn.svm import SVR\n",
    "\n",
    "\n",
    "\n",
    "model1 = DecisionTreeRegressor()\n",
    "model1.fit(x_train, y_train)\n",
    "val_pred1=model1.predict(x_val)\n",
    "test_pred1=model1.predict(x_test)\n",
    "val_pred1=pd.DataFrame(val_pred1)\n",
    "test_pred1=pd.DataFrame(test_pred1)\n",
    "\n",
    "model2 = KNeighborsRegressor()\n",
    "model2.fit(x_train,y_train)\n",
    "val_pred2=model2.predict(x_val)\n",
    "test_pred2=model2.predict(x_test)\n",
    "val_pred2=pd.DataFrame(val_pred2)\n",
    "test_pred2=pd.DataFrame(test_pred2)\n",
    "\n",
    "\n",
    "model3 = SVR()\n",
    "model3.fit(x_train,y_train)\n",
    "val_pred3=model2.predict(x_val)\n",
    "test_pred3=model2.predict(x_test)\n",
    "val_pred3=pd.DataFrame(val_pred3)\n",
    "test_pred3=pd.DataFrame(test_pred3)\n",
    "\n",
    "\n",
    "\n",
    "# // Note: x_val is numpy array, not dataframe, so to use in concat, it must be converted to dataframe\n",
    "\n",
    "df_val=pd.concat([pd.DataFrame(x_val), val_pred1,val_pred2,val_pred3],axis=1)\n",
    "df_test=pd.concat([pd.DataFrame(x_test), test_pred1,test_pred2,test_pred3],axis=1)\n",
    "\n",
    "model = DecisionTreeRegressor()\n",
    "model.fit(df_val,y_val)  \n",
    "# X_train,y_train\n",
    "model.score(df_test,y_test)\n",
    "# X_test,y_test\n",
    "\n",
    "y_pred=model.predict(df_test)\n",
    "\n",
    "# r2_score=1 - (1-model.score(df_val, y_val))*(len(y_val)-1)/(len(y_val)-df_val.shape[1]-1)\n",
    "# print(\"\\n Adj R2 score:\\n\",r2_score)\n",
    "\n",
    " # regressor.fit(x_train,y_train.ravel())\n",
    "# x_train, y_train\n",
    "# # Predicting the target values of the test set\n",
    "\n",
    "# y_pred=regressor.predict(x_test)\n",
    "# x_train"
   ]
  },
  {
   "cell_type": "code",
   "execution_count": 6,
   "metadata": {},
   "outputs": [],
   "source": [
    "# y_test\n",
    "# y_pred"
   ]
  },
  {
   "cell_type": "code",
   "execution_count": 7,
   "metadata": {},
   "outputs": [],
   "source": [
    "y_pred=np.reshape(y_pred,(8,1))\n",
    "y_test=np.reshape(y_test,(8,1))"
   ]
  },
  {
   "cell_type": "code",
   "execution_count": 8,
   "metadata": {},
   "outputs": [
    {
     "data": {
      "text/plain": [
       "array([[0.21251431],\n",
       "       [0.27001145],\n",
       "       [0.        ],\n",
       "       [0.04921786],\n",
       "       [0.06791301],\n",
       "       [0.0293781 ],\n",
       "       [0.66074018],\n",
       "       [0.29130103]])"
      ]
     },
     "execution_count": 8,
     "metadata": {},
     "output_type": "execute_result"
    }
   ],
   "source": [
    "y_test"
   ]
  },
  {
   "cell_type": "code",
   "execution_count": 9,
   "metadata": {},
   "outputs": [],
   "source": [
    "def mape(actual, pred): \n",
    "    actual, pred = np.array(actual), np.array(pred)\n",
    "    return np.mean(np.abs((actual - pred) / actual)) * 100"
   ]
  },
  {
   "cell_type": "code",
   "execution_count": 10,
   "metadata": {},
   "outputs": [],
   "source": [
    "def calculate_smape(actual, predicted) -> float:\n",
    "  \n",
    "    # Convert actual and predicted to numpy\n",
    "    \n",
    "    actual = np.array(actual)\n",
    "    predicted = np.array(predicted)\n",
    "  \n",
    "    return round(\n",
    "        np.mean(\n",
    "            np.abs(predicted - actual) / \n",
    "            ((np.abs(predicted) + np.abs(actual))/2)\n",
    "        )*100, 2\n",
    "    )"
   ]
  },
  {
   "cell_type": "code",
   "execution_count": 11,
   "metadata": {},
   "outputs": [
    {
     "name": "stdout",
     "output_type": "stream",
     "text": [
      "\n",
      "MSE:\n",
      " 0.0471159597350138\n",
      "\n",
      "RMSE:\n",
      " 0.21706211031641104\n",
      "\n",
      "MAPE:\n",
      " inf\n",
      "\n",
      "SMAPE:\n",
      " 93.87\n",
      "\n",
      " Adj R2 score:\n",
      " 1.0\n"
     ]
    },
    {
     "name": "stderr",
     "output_type": "stream",
     "text": [
      "C:\\Users\\sachi\\AppData\\Local\\Temp\\ipykernel_7892\\4261787059.py:3: RuntimeWarning: divide by zero encountered in true_divide\n",
      "  return np.mean(np.abs((actual - pred) / actual)) * 100\n"
     ]
    }
   ],
   "source": [
    "# RMSE (Root Mean Square Error)\n",
    "mse=mean_squared_error(y_test, y_pred)\n",
    "print(\"\\nMSE:\\n\",mse)\n",
    "rmse = np.sqrt(mean_squared_error(y_test, y_pred))\n",
    "print(\"\\nRMSE:\\n\",rmse)\n",
    "mape=mape(y_test, y_pred)\n",
    "print(\"\\nMAPE:\\n\",mape)\n",
    "\n",
    "smape = calculate_smape(y_test, y_pred)\n",
    "print(\"\\nSMAPE:\\n\",smape)\n",
    "r2_score=1 - (1-model.score(df_val, y_val))*(len(y_val)-1)/(len(y_val)-df_val.shape[1]-1)\n",
    "print(\"\\n Adj R2 score:\\n\",r2_score)"
   ]
  },
  {
   "cell_type": "code",
   "execution_count": 12,
   "metadata": {},
   "outputs": [],
   "source": [
    "y_pred=scaler.inverse_transform(y_pred)"
   ]
  },
  {
   "cell_type": "code",
   "execution_count": 13,
   "metadata": {},
   "outputs": [],
   "source": [
    "y_test=scaler.inverse_transform(y_test)"
   ]
  },
  {
   "cell_type": "code",
   "execution_count": 14,
   "metadata": {},
   "outputs": [],
   "source": [
    "y_test=np.reshape(y_test,(8,))\n",
    "y_pred=np.reshape(y_pred,(8,))"
   ]
  },
  {
   "cell_type": "code",
   "execution_count": 15,
   "metadata": {},
   "outputs": [
    {
     "name": "stdout",
     "output_type": "stream",
     "text": [
      "   Actual Effort  Predicted Effort\n",
      "0         6030.0           17200.0\n",
      "1         7537.0            4713.0\n",
      "2          460.0            4713.0\n",
      "3         1750.0            4500.0\n",
      "4         2240.0            4713.0\n",
      "5         1230.0            4500.0\n",
      "6        17778.0           18690.0\n",
      "7         8095.0           17200.0\n"
     ]
    }
   ],
   "source": [
    "dfr=pd.DataFrame({'Actual Effort':y_test, 'Predicted Effort':y_pred})\n",
    "print(dfr)"
   ]
  },
  {
   "cell_type": "code",
   "execution_count": 16,
   "metadata": {},
   "outputs": [],
   "source": [
    "    dfr.to_csv('Blendingfinish.csv', index=True)\n",
    "   \n",
    "    dfr.to_excel(\"Blendingfinsh.xlsx\")\n",
    "    \n",
    "    "
   ]
  },
  {
   "cell_type": "code",
   "execution_count": 17,
   "metadata": {},
   "outputs": [
    {
     "data": {
      "image/png": "[encoded data removed]",
      "text/plain": [
       "<Figure size 720x576 with 1 Axes>"
      ]
     },
     "metadata": {
      "needs_background": "light"
     },
     "output_type": "display_data"
    }
   ],
   "source": [
    "#Predicted vs Actual Close Value \n",
    "from matplotlib import pyplot as plt \n",
    "plt.figure(figsize=(10,8))\n",
    "plt.plot(y_test, label=\"Actual Value\")\n",
    "plt.plot(y_pred, label=\"Predicted value\")\n",
    "plt.title(\"Prediction by Blending\")\n",
    "plt.xlabel(\"Projects\")\n",
    "plt.ylabel(\"Effort\")\n",
    "plt.legend()\n",
    "plt.show()"
   ]
  }
 ],
 "metadata": {
  "interpreter": {
   "hash": "2151b42579b4a137ca7c4186f7cd8603a15c6499005cacc37f762ae71ad2c0c8"
  },
  "kernelspec": {
   "display_name": "Python 3.10.1 64-bit",
   "language": "python",
   "name": "python3"
  },
  "language_info": {
   "codemirror_mode": {
    "name": "ipython",
    "version": 3
   },
   "file_extension": ".py",
   "mimetype": "text/x-python",
   "name": "python",
   "nbconvert_exporter": "python",
   "pygments_lexer": "ipython3",
   "version": "3.10.1"
  },
  "orig_nbformat": 4
 },
 "nbformat": 4,
 "nbformat_minor": 2
}
