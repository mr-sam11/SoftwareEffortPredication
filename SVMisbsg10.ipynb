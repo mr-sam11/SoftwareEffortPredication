{
 "cells": [
  {
   "cell_type": "code",
   "execution_count": 7,
   "metadata": {},
   "outputs": [],
   "source": [
    "# Importing the libraries\n",
    "import numpy as np \n",
    "import pandas as pd\n",
    "from sklearn.model_selection import train_test_split\n",
    "from sklearn.metrics import mean_squared_error, r2_score\n",
    "from sklearn.preprocessing import MinMaxScaler\n"
   ]
  },
  {
   "cell_type": "code",
   "execution_count": 8,
   "metadata": {},
   "outputs": [
    {
     "data": {
      "text/html": [
       "<div>\n",
       "<style scoped>\n",
       "    .dataframe tbody tr th:only-of-type {\n",
       "        vertical-align: middle;\n",
       "    }\n",
       "\n",
       "    .dataframe tbody tr th {\n",
       "        vertical-align: top;\n",
       "    }\n",
       "\n",
       "    .dataframe thead th {\n",
       "        text-align: right;\n",
       "    }\n",
       "</style>\n",
       "<table border=\"1\" class=\"dataframe\">\n",
       "  <thead>\n",
       "    <tr style=\"text-align: right;\">\n",
       "      <th></th>\n",
       "      <th>Data_Quality</th>\n",
       "      <th>UFP</th>\n",
       "      <th>IS</th>\n",
       "      <th>DP</th>\n",
       "      <th>LT</th>\n",
       "      <th>PPL</th>\n",
       "      <th>CA</th>\n",
       "      <th>FS</th>\n",
       "      <th>RS</th>\n",
       "      <th>Recording_Method</th>\n",
       "      <th>FPS</th>\n",
       "      <th>Effort</th>\n",
       "    </tr>\n",
       "  </thead>\n",
       "  <tbody>\n",
       "    <tr>\n",
       "      <th>0</th>\n",
       "      <td>1</td>\n",
       "      <td>1</td>\n",
       "      <td>1</td>\n",
       "      <td>1</td>\n",
       "      <td>1</td>\n",
       "      <td>1</td>\n",
       "      <td>1</td>\n",
       "      <td>225</td>\n",
       "      <td>1</td>\n",
       "      <td>1</td>\n",
       "      <td>1</td>\n",
       "      <td>1856</td>\n",
       "    </tr>\n",
       "    <tr>\n",
       "      <th>1</th>\n",
       "      <td>1</td>\n",
       "      <td>1</td>\n",
       "      <td>1</td>\n",
       "      <td>1</td>\n",
       "      <td>1</td>\n",
       "      <td>2</td>\n",
       "      <td>1</td>\n",
       "      <td>599</td>\n",
       "      <td>2</td>\n",
       "      <td>1</td>\n",
       "      <td>2</td>\n",
       "      <td>10083</td>\n",
       "    </tr>\n",
       "    <tr>\n",
       "      <th>2</th>\n",
       "      <td>1</td>\n",
       "      <td>1</td>\n",
       "      <td>1</td>\n",
       "      <td>2</td>\n",
       "      <td>1</td>\n",
       "      <td>2</td>\n",
       "      <td>1</td>\n",
       "      <td>333</td>\n",
       "      <td>2</td>\n",
       "      <td>1</td>\n",
       "      <td>3</td>\n",
       "      <td>5208</td>\n",
       "    </tr>\n",
       "    <tr>\n",
       "      <th>3</th>\n",
       "      <td>1</td>\n",
       "      <td>1</td>\n",
       "      <td>2</td>\n",
       "      <td>3</td>\n",
       "      <td>2</td>\n",
       "      <td>3</td>\n",
       "      <td>1</td>\n",
       "      <td>748</td>\n",
       "      <td>2</td>\n",
       "      <td>2</td>\n",
       "      <td>3</td>\n",
       "      <td>1518</td>\n",
       "    </tr>\n",
       "    <tr>\n",
       "      <th>4</th>\n",
       "      <td>1</td>\n",
       "      <td>1</td>\n",
       "      <td>1</td>\n",
       "      <td>1</td>\n",
       "      <td>1</td>\n",
       "      <td>4</td>\n",
       "      <td>1</td>\n",
       "      <td>158</td>\n",
       "      <td>1</td>\n",
       "      <td>1</td>\n",
       "      <td>4</td>\n",
       "      <td>3376</td>\n",
       "    </tr>\n",
       "  </tbody>\n",
       "</table>\n",
       "</div>"
      ],
      "text/plain": [
       "   Data_Quality  UFP  IS  DP  LT  PPL  CA   FS  RS  Recording_Method  FPS  \\\n",
       "0             1    1   1   1   1    1   1  225   1                 1    1   \n",
       "1             1    1   1   1   1    2   1  599   2                 1    2   \n",
       "2             1    1   1   2   1    2   1  333   2                 1    3   \n",
       "3             1    1   2   3   2    3   1  748   2                 2    3   \n",
       "4             1    1   1   1   1    4   1  158   1                 1    4   \n",
       "\n",
       "   Effort  \n",
       "0    1856  \n",
       "1   10083  \n",
       "2    5208  \n",
       "3    1518  \n",
       "4    3376  "
      ]
     },
     "execution_count": 8,
     "metadata": {},
     "output_type": "execute_result"
    }
   ],
   "source": [
    "# Reading the data\n",
    "dataset = pd.read_csv(\"Dataset/isbsg10.arff.csv\")\n",
    "dataset.head()"
   ]
  },
  {
   "cell_type": "code",
   "execution_count": 9,
   "metadata": {},
   "outputs": [],
   "source": [
    "\n",
    "x = np.array(dataset.drop(['Effort'],axis=1))\n",
    "y = np.array(dataset['Effort'])"
   ]
  },
  {
   "cell_type": "code",
   "execution_count": 10,
   "metadata": {},
   "outputs": [
    {
     "data": {
      "text/plain": [
       "(37,)"
      ]
     },
     "execution_count": 10,
     "metadata": {},
     "output_type": "execute_result"
    }
   ],
   "source": [
    "y.shape"
   ]
  },
  {
   "cell_type": "markdown",
   "metadata": {},
   "source": [
    "Scaling the data"
   ]
  },
  {
   "cell_type": "code",
   "execution_count": 11,
   "metadata": {},
   "outputs": [],
   "source": [
    "scaler=MinMaxScaler(feature_range=(0,1))\n",
    "x_scaled=scaler.fit_transform(x)\n",
    "y=np.reshape(y,(37,1))\n",
    "y=scaler.fit_transform(y)"
   ]
  },
  {
   "cell_type": "markdown",
   "metadata": {},
   "source": [
    " Splitting the dataset into training and testing set (80/20)"
   ]
  },
  {
   "cell_type": "code",
   "execution_count": 12,
   "metadata": {},
   "outputs": [],
   "source": [
    "# Splitting the dataset into training and testing set (80/20)\n",
    "x_train, x_test, y_train, y_test = train_test_split(x_scaled, y, test_size = 0.2, random_state =30)"
   ]
  },
  {
   "cell_type": "code",
   "execution_count": 13,
   "metadata": {},
   "outputs": [
    {
     "data": {
      "text/plain": [
       "array([[0.        , 0.        , 0.33333333, 0.5       , 0.5       ,\n",
       "        0.15384615, 0.        , 0.47852298, 0.33333333, 1.        ,\n",
       "        0.75      ],\n",
       "       [0.        , 0.        , 0.        , 0.25      , 0.        ,\n",
       "        0.        , 0.        , 0.32177845, 0.33333333, 0.        ,\n",
       "        0.5       ],\n",
       "       [1.        , 1.        , 1.        , 0.25      , 1.        ,\n",
       "        0.92307692, 1.        , 0.11152977, 0.        , 0.66666667,\n",
       "        0.75      ],\n",
       "       [0.        , 0.        , 0.        , 0.        , 0.        ,\n",
       "        0.23076923, 0.        , 0.08590806, 0.        , 0.        ,\n",
       "        0.75      ],\n",
       "       [0.        , 0.        , 0.22222222, 0.5       , 0.5       ,\n",
       "        0.15384615, 0.        , 1.        , 1.        , 0.33333333,\n",
       "        0.5       ],\n",
       "       [0.        , 0.        , 0.        , 0.25      , 0.        ,\n",
       "        0.        , 0.        , 0.06782216, 0.        , 0.        ,\n",
       "        0.5       ],\n",
       "       [0.        , 0.        , 0.        , 0.        , 0.        ,\n",
       "        0.        , 0.        , 0.13639789, 0.        , 0.        ,\n",
       "        0.        ],\n",
       "       [0.        , 0.        , 0.        , 0.25      , 1.        ,\n",
       "        0.84615385, 0.        , 0.06405426, 0.        , 0.        ,\n",
       "        0.5       ],\n",
       "       [0.        , 0.        , 0.        , 0.        , 0.        ,\n",
       "        0.07692308, 0.        , 0.        , 0.66666667, 0.        ,\n",
       "        0.75      ],\n",
       "       [0.        , 0.        , 0.        , 0.25      , 0.        ,\n",
       "        0.        , 0.        , 0.07761869, 0.        , 0.        ,\n",
       "        0.5       ],\n",
       "       [0.        , 0.        , 0.        , 0.25      , 0.        ,\n",
       "        0.07692308, 0.        , 0.01657875, 0.66666667, 0.        ,\n",
       "        0.5       ],\n",
       "       [1.        , 1.        , 0.66666667, 0.75      , 0.        ,\n",
       "        1.        , 0.        , 0.05124341, 0.        , 0.66666667,\n",
       "        0.75      ],\n",
       "       [1.        , 1.        , 0.22222222, 0.75      , 1.        ,\n",
       "        0.30769231, 0.        , 0.31424265, 0.33333333, 0.66666667,\n",
       "        0.75      ],\n",
       "       [0.        , 0.        , 0.66666667, 0.5       , 0.5       ,\n",
       "        0.15384615, 0.        , 0.07460437, 0.        , 0.33333333,\n",
       "        0.5       ],\n",
       "       [1.        , 1.        , 0.66666667, 1.        , 0.        ,\n",
       "        0.23076923, 0.        , 0.19517709, 0.33333333, 0.66666667,\n",
       "        0.75      ],\n",
       "       [1.        , 1.        , 0.66666667, 0.75      , 1.        ,\n",
       "        0.30769231, 0.        , 0.10474755, 0.        , 0.66666667,\n",
       "        0.75      ],\n",
       "       [0.        , 0.        , 0.        , 0.75      , 0.        ,\n",
       "        0.69230769, 0.        , 0.79954785, 1.        , 0.        ,\n",
       "        1.        ],\n",
       "       [0.        , 0.        , 0.88888889, 0.5       , 0.5       ,\n",
       "        0.15384615, 0.        , 0.71665411, 0.33333333, 0.33333333,\n",
       "        0.75      ],\n",
       "       [1.        , 1.        , 0.33333333, 0.75      , 0.        ,\n",
       "        0.53846154, 0.        , 0.26752072, 0.33333333, 0.66666667,\n",
       "        0.5       ],\n",
       "       [0.        , 1.        , 0.33333333, 0.25      , 1.        ,\n",
       "        0.38461538, 1.        , 0.12584778, 0.        , 0.66666667,\n",
       "        0.75      ],\n",
       "       [0.        , 0.        , 0.        , 0.        , 0.        ,\n",
       "        0.07692308, 0.        , 0.41823662, 0.33333333, 0.        ,\n",
       "        0.25      ],\n",
       "       [1.        , 1.        , 1.        , 0.25      , 1.        ,\n",
       "        0.92307692, 1.        , 0.04069329, 0.66666667, 0.66666667,\n",
       "        0.75      ],\n",
       "       [0.        , 0.        , 0.33333333, 0.5       , 0.5       ,\n",
       "        0.15384615, 0.        , 0.16051243, 0.        , 0.33333333,\n",
       "        0.5       ],\n",
       "       [0.        , 0.        , 0.44444444, 0.5       , 0.5       ,\n",
       "        0.15384615, 0.        , 0.05425772, 0.        , 1.        ,\n",
       "        0.75      ],\n",
       "       [0.        , 0.        , 0.11111111, 0.5       , 0.5       ,\n",
       "        0.15384615, 0.        , 0.53051997, 0.33333333, 0.33333333,\n",
       "        0.5       ],\n",
       "       [0.        , 0.        , 0.55555556, 0.5       , 0.5       ,\n",
       "        0.15384615, 0.        , 0.14996232, 0.        , 0.33333333,\n",
       "        0.75      ],\n",
       "       [0.        , 0.        , 0.        , 0.25      , 0.        ,\n",
       "        0.07692308, 0.        , 0.21778448, 0.33333333, 0.        ,\n",
       "        0.5       ],\n",
       "       [0.        , 0.        , 0.        , 0.25      , 0.        ,\n",
       "        0.76923077, 0.        , 0.42954032, 0.33333333, 0.        ,\n",
       "        0.75      ],\n",
       "       [0.        , 0.        , 0.        , 0.25      , 0.        ,\n",
       "        1.        , 0.        , 0.18688772, 0.        , 0.        ,\n",
       "        0.5       ]])"
      ]
     },
     "execution_count": 13,
     "metadata": {},
     "output_type": "execute_result"
    }
   ],
   "source": [
    "x_train"
   ]
  },
  {
   "cell_type": "markdown",
   "metadata": {},
   "source": [
    " SVM Model"
   ]
  },
  {
   "cell_type": "code",
   "execution_count": 14,
   "metadata": {},
   "outputs": [
    {
     "data": {
      "text/plain": [
       "SVR(C=1000.0, gamma=0.1)"
      ]
     },
     "execution_count": 14,
     "metadata": {},
     "output_type": "execute_result"
    }
   ],
   "source": [
    "# SVM Model\n",
    "from sklearn.svm import SVR\n",
    "svr = SVR(kernel='rbf', C=1e3, gamma=0.1)\n",
    "# Train the model \n",
    "svr.fit(x_train, y_train.ravel())"
   ]
  },
  {
   "cell_type": "markdown",
   "metadata": {},
   "source": [
    "Predicting the Close Price"
   ]
  },
  {
   "cell_type": "code",
   "execution_count": 15,
   "metadata": {},
   "outputs": [],
   "source": [
    "# Predicting the target values of the test set\n",
    "y_pred = svr.predict(x_test)"
   ]
  },
  {
   "cell_type": "code",
   "execution_count": 18,
   "metadata": {},
   "outputs": [],
   "source": [
    "y_pred=np.reshape(y_pred,(8,1))\n",
    "y_test=np.reshape(y_test,(8,1))"
   ]
  },
  {
   "cell_type": "markdown",
   "metadata": {},
   "source": [
    "Finding the RMSE and MAPE"
   ]
  },
  {
   "cell_type": "markdown",
   "metadata": {},
   "source": [
    "Definition of Mean Absolute Percentage Error"
   ]
  },
  {
   "cell_type": "code",
   "execution_count": 19,
   "metadata": {},
   "outputs": [],
   "source": [
    "def mape(actual, pred): \n",
    "    actual, pred = np.array(actual), np.array(pred)\n",
    "    return np.mean(np.abs((actual - pred) / actual)) * 100"
   ]
  },
  {
   "cell_type": "code",
   "execution_count": 20,
   "metadata": {},
   "outputs": [
    {
     "name": "stdout",
     "output_type": "stream",
     "text": [
      "\n",
      "MSE:\n",
      " 0.037120457636720394\n",
      "\n",
      "RMSE:\n",
      " 0.19266670090267388\n",
      "\n",
      "MAPE:\n",
      " inf\n",
      "\n",
      "SMAPE:\n",
      " 106.62\n",
      "\n",
      " Adj R2 score:\n",
      " 0.8262647625929455\n"
     ]
    },
    {
     "name": "stderr",
     "output_type": "stream",
     "text": [
      "C:\\Users\\sachi\\AppData\\Local\\Temp\\ipykernel_8372\\4261787059.py:3: RuntimeWarning: divide by zero encountered in true_divide\n",
      "  return np.mean(np.abs((actual - pred) / actual)) * 100\n"
     ]
    }
   ],
   "source": [
    "\n",
    "def calculate_smape(actual, predicted) -> float:\n",
    "  \n",
    "    # Convert actual and predicted to numpy\n",
    "    # array data type if not already\n",
    "    if not all([isinstance(actual, np.ndarray), \n",
    "                isinstance(predicted, np.ndarray)]):\n",
    "        actual, predicted = np.array(actual),\n",
    "        np.array(predicted)\n",
    "  \n",
    "    return round(\n",
    "        np.mean(\n",
    "            np.abs(predicted - actual) / \n",
    "            ((np.abs(predicted) + np.abs(actual))/2)\n",
    "        )*100, 2\n",
    "    )\n",
    "# RMSE (Root Mean Square Error)\n",
    "mse=mean_squared_error(y_test, y_pred)\n",
    "print(\"\\nMSE:\\n\",mse)\n",
    "rmse = np.sqrt(mean_squared_error(y_test, y_pred))\n",
    "print(\"\\nRMSE:\\n\",rmse)\n",
    "mape=mape(y_test, y_pred)\n",
    "print(\"\\nMAPE:\\n\",mape)\n",
    "\n",
    "smape = calculate_smape(y_test, y_pred)\n",
    "print(\"\\nSMAPE:\\n\",smape)\n",
    "r2_score=1 - (1-svr.score(x_train, y_train))*(len(y_train)-1)/(len(y_train)-x_train.shape[1]-1)\n",
    "print(\"\\n Adj R2 score:\\n\",r2_score)"
   ]
  },
  {
   "cell_type": "code",
   "execution_count": 21,
   "metadata": {},
   "outputs": [],
   "source": [
    "\n",
    "y_pred=scaler.inverse_transform(y_pred)"
   ]
  },
  {
   "cell_type": "code",
   "execution_count": 22,
   "metadata": {},
   "outputs": [],
   "source": [
    "\n",
    "\n",
    "y_test=scaler.inverse_transform(y_test)"
   ]
  },
  {
   "cell_type": "code",
   "execution_count": 24,
   "metadata": {},
   "outputs": [],
   "source": [
    "\n",
    "y_test=np.reshape(y_test,(8,))\n",
    "y_pred=np.reshape(y_pred,(8,))"
   ]
  },
  {
   "cell_type": "code",
   "execution_count": 25,
   "metadata": {},
   "outputs": [
    {
     "name": "stdout",
     "output_type": "stream",
     "text": [
      "   Actual Effort  Predicted Effort\n",
      "0          441.0        208.349631\n",
      "1         1273.0       2157.117950\n",
      "2         3272.0       1615.775194\n",
      "3         5170.0       6664.744016\n",
      "4           87.0        -95.095986\n",
      "5         1530.0       7473.932650\n",
      "6         1772.0      -2396.742960\n",
      "7         3268.0       1614.852077\n"
     ]
    }
   ],
   "source": [
    "dfr=pd.DataFrame({'Actual Effort':y_test, 'Predicted Effort':y_pred})\n",
    "print(dfr)"
   ]
  },
  {
   "cell_type": "code",
   "execution_count": 26,
   "metadata": {},
   "outputs": [
    {
     "data": {
      "image/png": "[encoded data removed]",
      "text/plain": [
       "<Figure size 720x576 with 1 Axes>"
      ]
     },
     "metadata": {
      "needs_background": "light"
     },
     "output_type": "display_data"
    }
   ],
   "source": [
    "#Predicted vs Actual Close Value \n",
    "from matplotlib import pyplot as plt \n",
    "plt.figure(figsize=(10,8))\n",
    "plt.plot(y_test, label=\"Actual Value\")\n",
    "plt.plot(y_pred, label=\"SVM value\")\n",
    "plt.title(\"Prediction by SVM\")\n",
    "plt.xlabel(\"Projects\")\n",
    "plt.ylabel(\"Effort\")\n",
    "plt.legend()\n",
    "plt.show()"
   ]
  }
 ],
 "metadata": {
  "interpreter": {
   "hash": "2151b42579b4a137ca7c4186f7cd8603a15c6499005cacc37f762ae71ad2c0c8"
  },
  "kernelspec": {
   "display_name": "Python 3.10.1 64-bit",
   "language": "python",
   "name": "python3"
  },
  "language_info": {
   "codemirror_mode": {
    "name": "ipython",
    "version": 3
   },
   "file_extension": ".py",
   "mimetype": "text/x-python",
   "name": "python",
   "nbconvert_exporter": "python",
   "pygments_lexer": "ipython3",
   "version": "3.10.1"
  },
  "orig_nbformat": 4
 },
 "nbformat": 4,
 "nbformat_minor": 2
}
