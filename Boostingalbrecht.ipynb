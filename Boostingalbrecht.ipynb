{
 "cells": [
  {
   "cell_type": "code",
   "execution_count": 1,
   "metadata": {},
   "outputs": [],
   "source": [
    "# Importing the libraries\n",
    "import numpy as np \n",
    "import pandas as pd\n",
    "from sklearn.model_selection import train_test_split\n",
    "from sklearn.metrics import mean_squared_error, r2_score\n",
    "from sklearn.preprocessing import MinMaxScaler\n"
   ]
  },
  {
   "cell_type": "code",
   "execution_count": 2,
   "metadata": {},
   "outputs": [
    {
     "data": {
      "text/html": [
       "<div>\n",
       "<style scoped>\n",
       "    .dataframe tbody tr th:only-of-type {\n",
       "        vertical-align: middle;\n",
       "    }\n",
       "\n",
       "    .dataframe tbody tr th {\n",
       "        vertical-align: top;\n",
       "    }\n",
       "\n",
       "    .dataframe thead th {\n",
       "        text-align: right;\n",
       "    }\n",
       "</style>\n",
       "<table border=\"1\" class=\"dataframe\">\n",
       "  <thead>\n",
       "    <tr style=\"text-align: right;\">\n",
       "      <th></th>\n",
       "      <th>Input</th>\n",
       "      <th>Output</th>\n",
       "      <th>Inquiry</th>\n",
       "      <th>File</th>\n",
       "      <th>AdjFP</th>\n",
       "      <th>Effort</th>\n",
       "    </tr>\n",
       "  </thead>\n",
       "  <tbody>\n",
       "    <tr>\n",
       "      <th>0</th>\n",
       "      <td>25</td>\n",
       "      <td>150</td>\n",
       "      <td>75</td>\n",
       "      <td>60</td>\n",
       "      <td>1750</td>\n",
       "      <td>102.4</td>\n",
       "    </tr>\n",
       "    <tr>\n",
       "      <th>1</th>\n",
       "      <td>193</td>\n",
       "      <td>98</td>\n",
       "      <td>70</td>\n",
       "      <td>36</td>\n",
       "      <td>1902</td>\n",
       "      <td>105.2</td>\n",
       "    </tr>\n",
       "    <tr>\n",
       "      <th>2</th>\n",
       "      <td>70</td>\n",
       "      <td>27</td>\n",
       "      <td>0</td>\n",
       "      <td>12</td>\n",
       "      <td>428</td>\n",
       "      <td>11.1</td>\n",
       "    </tr>\n",
       "    <tr>\n",
       "      <th>3</th>\n",
       "      <td>40</td>\n",
       "      <td>60</td>\n",
       "      <td>20</td>\n",
       "      <td>12</td>\n",
       "      <td>759</td>\n",
       "      <td>21.1</td>\n",
       "    </tr>\n",
       "    <tr>\n",
       "      <th>4</th>\n",
       "      <td>10</td>\n",
       "      <td>69</td>\n",
       "      <td>1</td>\n",
       "      <td>9</td>\n",
       "      <td>431</td>\n",
       "      <td>28.8</td>\n",
       "    </tr>\n",
       "  </tbody>\n",
       "</table>\n",
       "</div>"
      ],
      "text/plain": [
       "   Input  Output  Inquiry  File  AdjFP  Effort\n",
       "0     25     150       75    60   1750   102.4\n",
       "1    193      98       70    36   1902   105.2\n",
       "2     70      27        0    12    428    11.1\n",
       "3     40      60       20    12    759    21.1\n",
       "4     10      69        1     9    431    28.8"
      ]
     },
     "execution_count": 2,
     "metadata": {},
     "output_type": "execute_result"
    }
   ],
   "source": [
    "# Reading the data\n",
    "dataset = pd.read_csv(\"Dataset/albrecht.arff.csv\")\n",
    "dataset.head()"
   ]
  },
  {
   "cell_type": "code",
   "execution_count": 3,
   "metadata": {},
   "outputs": [],
   "source": [
    "\n",
    "x = np.array(dataset.drop(['Effort'],axis=1))\n",
    "y = np.array(dataset['Effort'])"
   ]
  },
  {
   "cell_type": "code",
   "execution_count": 4,
   "metadata": {},
   "outputs": [
    {
     "data": {
      "text/plain": [
       "(24,)"
      ]
     },
     "execution_count": 4,
     "metadata": {},
     "output_type": "execute_result"
    }
   ],
   "source": [
    "y.shape"
   ]
  },
  {
   "cell_type": "markdown",
   "metadata": {},
   "source": [
    "Scaling the data"
   ]
  },
  {
   "cell_type": "code",
   "execution_count": 5,
   "metadata": {},
   "outputs": [],
   "source": [
    "scaler=MinMaxScaler(feature_range=(0,1))\n",
    "x_scaled=scaler.fit_transform(x)\n",
    "y=np.reshape(y,(24,1))\n",
    "y=scaler.fit_transform(y)"
   ]
  },
  {
   "cell_type": "markdown",
   "metadata": {},
   "source": [
    " Splitting the dataset into training and testing set (80/20)"
   ]
  },
  {
   "cell_type": "code",
   "execution_count": 6,
   "metadata": {},
   "outputs": [],
   "source": [
    "# Splitting the dataset into training and testing set (80/20)\n",
    "x_train, x_test, y_train, y_test = train_test_split(x_scaled, y, test_size = 0.2, random_state =30)"
   ]
  },
  {
   "cell_type": "code",
   "execution_count": 7,
   "metadata": {},
   "outputs": [
    {
     "data": {
      "text/plain": [
       "array([[0.14516129, 0.01449275, 0.        , 0.03508772, 0.00352319],\n",
       "       [0.01612903, 0.41304348, 0.01333333, 0.10526316, 0.13623018],\n",
       "       [0.20430108, 0.37681159, 0.18666667, 0.22807018, 0.28244275],\n",
       "       [0.22043011, 0.39130435, 0.17333333, 0.8245614 , 0.60833823],\n",
       "       [0.11290323, 0.1884058 , 0.32      , 0.10526316, 0.18379331],\n",
       "       [0.13978495, 0.03623188, 0.10666667, 0.03508772, 0.01467998],\n",
       "       [1.        , 0.62318841, 0.93333333, 0.57894737, 1.        ],\n",
       "       [0.09677419, 0.11594203, 0.05333333, 0.33333333, 0.17674692],\n",
       "       [0.05376344, 0.03623188, 0.2       , 0.03508772, 0.05284792],\n",
       "       [0.17741935, 0.34782609, 0.26666667, 0.21052632, 0.34938344],\n",
       "       [0.17741935, 0.34782609, 0.26666667, 0.15789474, 0.32883147],\n",
       "       [0.        , 0.        , 0.17333333, 0.0877193 , 0.00587199],\n",
       "       [0.10752688, 0.05797101, 0.32      , 0.05263158, 0.11802701],\n",
       "       [0.33870968, 0.10869565, 0.        , 0.15789474, 0.13446858],\n",
       "       [0.11290323, 0.21014493, 0.21333333, 0.14035088, 0.1280094 ],\n",
       "       [0.29032258, 0.4057971 , 0.        , 0.14035088, 0.29066353],\n",
       "       [0.19354839, 0.20289855, 0.26666667, 0.56140351, 0.28361715],\n",
       "       [0.02688172, 0.02173913, 0.        , 0.21052632, 0.03581914],\n",
       "       [0.03225806, 0.05072464, 0.        , 0.35087719, 0.04932472]])"
      ]
     },
     "execution_count": 7,
     "metadata": {},
     "output_type": "execute_result"
    }
   ],
   "source": [
    "x_train"
   ]
  },
  {
   "cell_type": "markdown",
   "metadata": {},
   "source": [
    "DecisionTree"
   ]
  },
  {
   "cell_type": "code",
   "execution_count": 8,
   "metadata": {},
   "outputs": [
    {
     "data": {
      "text/plain": [
       "GradientBoostingRegressor(random_state=0)"
      ]
     },
     "execution_count": 8,
     "metadata": {},
     "output_type": "execute_result"
    }
   ],
   "source": [
    "from sklearn.ensemble import  GradientBoostingRegressor\n",
    "\n",
    "regr = GradientBoostingRegressor(random_state=0)\n",
    "regr.fit(x_train,y_train.ravel())"
   ]
  },
  {
   "cell_type": "code",
   "execution_count": 9,
   "metadata": {},
   "outputs": [],
   "source": [
    "# Predicting the target values of the test set\n",
    "y_pred = regr.predict(x_test)"
   ]
  },
  {
   "cell_type": "code",
   "execution_count": 10,
   "metadata": {},
   "outputs": [],
   "source": [
    "y_pred=np.reshape(y_pred,(5,1))\n",
    "y_test=np.reshape(y_test,(5,1))"
   ]
  },
  {
   "cell_type": "markdown",
   "metadata": {},
   "source": [
    "Finding the RMSE and MAPE"
   ]
  },
  {
   "cell_type": "markdown",
   "metadata": {},
   "source": [
    "Definition of Mean Absolute Percentage Error"
   ]
  },
  {
   "cell_type": "code",
   "execution_count": 11,
   "metadata": {},
   "outputs": [],
   "source": [
    "def mape(actual, pred): \n",
    "    actual, pred = np.array(actual), np.array(pred)\n",
    "    return np.mean(np.abs((actual - pred) / actual)) * 100"
   ]
  },
  {
   "cell_type": "code",
   "execution_count": 12,
   "metadata": {},
   "outputs": [],
   "source": [
    "\n",
    "def calculate_smape(actual, predicted) -> float:\n",
    "  \n",
    "    # Convert actual and predicted to numpy\n",
    "    # array data type if not already\n",
    "    if not all([isinstance(actual, np.ndarray), \n",
    "                isinstance(predicted, np.ndarray)]):\n",
    "        actual, predicted = np.array(actual),\n",
    "        np.array(predicted)\n",
    "  \n",
    "    return round(\n",
    "        np.mean(\n",
    "            np.abs(predicted - actual) / \n",
    "            ((np.abs(predicted) + np.abs(actual))/2)\n",
    "        )*100, 2\n",
    "    )\n"
   ]
  },
  {
   "cell_type": "code",
   "execution_count": 13,
   "metadata": {},
   "outputs": [
    {
     "name": "stdout",
     "output_type": "stream",
     "text": [
      "\n",
      "MSE:\n",
      " 0.013198349380428704\n",
      "\n",
      "RMSE:\n",
      " 0.11488406930653486\n",
      "\n",
      "MAPE:\n",
      " inf\n",
      "\n",
      "SMAPE:\n",
      " 56.47\n",
      "\n",
      " Adj R2 score:\n",
      " 0.9999925288850817\n"
     ]
    },
    {
     "name": "stderr",
     "output_type": "stream",
     "text": [
      "C:\\Users\\sachi\\AppData\\Local\\Temp\\ipykernel_8084\\4261787059.py:3: RuntimeWarning: divide by zero encountered in true_divide\n",
      "  return np.mean(np.abs((actual - pred) / actual)) * 100\n"
     ]
    }
   ],
   "source": [
    "# RMSE (Root Mean Square Error)\n",
    "mse=mean_squared_error(y_test, y_pred)\n",
    "print(\"\\nMSE:\\n\",mse)\n",
    "rmse = np.sqrt(mean_squared_error(y_test, y_pred))\n",
    "print(\"\\nRMSE:\\n\",rmse)\n",
    "mape=mape(y_test, y_pred)\n",
    "print(\"\\nMAPE:\\n\",mape)\n",
    "\n",
    "smape = calculate_smape(y_test, y_pred)\n",
    "print(\"\\nSMAPE:\\n\",smape)\n",
    "r2_score=1 - (1-regr.score(x_train, y_train))*(len(y_train)-1)/(len(y_train)-x_train.shape[1]-1)\n",
    "print(\"\\n Adj R2 score:\\n\",r2_score)"
   ]
  },
  {
   "cell_type": "code",
   "execution_count": 14,
   "metadata": {},
   "outputs": [],
   "source": [
    "\n",
    "y_pred=scaler.inverse_transform(y_pred)"
   ]
  },
  {
   "cell_type": "code",
   "execution_count": 15,
   "metadata": {},
   "outputs": [],
   "source": [
    "\n",
    "\n",
    "y_test=scaler.inverse_transform(y_test)"
   ]
  },
  {
   "cell_type": "code",
   "execution_count": 16,
   "metadata": {},
   "outputs": [],
   "source": [
    "\n",
    "y_test=np.reshape(y_test,(5,))\n",
    "y_pred=np.reshape(y_pred,(5,))"
   ]
  },
  {
   "cell_type": "code",
   "execution_count": 17,
   "metadata": {},
   "outputs": [
    {
     "name": "stdout",
     "output_type": "stream",
     "text": [
      "   Actual Effort  Predicted Effort\n",
      "0           10.8         12.904844\n",
      "1           18.3         14.967173\n",
      "2           61.2         72.099467\n",
      "3          102.4         78.415164\n",
      "4            0.5          4.214650\n"
     ]
    }
   ],
   "source": [
    "dfr=pd.DataFrame({'Actual Effort':y_test, 'Predicted Effort':y_pred})\n",
    "print(dfr)"
   ]
  },
  {
   "cell_type": "code",
   "execution_count": 18,
   "metadata": {},
   "outputs": [
    {
     "data": {
      "image/png": "[encoded data removed]",
      "text/plain": [
       "<Figure size 720x576 with 1 Axes>"
      ]
     },
     "metadata": {
      "needs_background": "light"
     },
     "output_type": "display_data"
    }
   ],
   "source": [
    "#Predicted vs Actual Close Value \n",
    "from matplotlib import pyplot as plt \n",
    "plt.figure(figsize=(10,8))\n",
    "plt.plot(y_test, label=\"Actual Value\")\n",
    "plt.plot(y_pred, label=\"Predicted value\")\n",
    "plt.title(\"Prediction by Boosting\")\n",
    "plt.xlabel(\"Projects\")\n",
    "plt.ylabel(\"Effort\")\n",
    "plt.legend()\n",
    "plt.show()"
   ]
  }
 ],
 "metadata": {
  "interpreter": {
   "hash": "2151b42579b4a137ca7c4186f7cd8603a15c6499005cacc37f762ae71ad2c0c8"
  },
  "kernelspec": {
   "display_name": "Python 3.10.1 64-bit",
   "language": "python",
   "name": "python3"
  },
  "language_info": {
   "codemirror_mode": {
    "name": "ipython",
    "version": 3
   },
   "file_extension": ".py",
   "mimetype": "text/x-python",
   "name": "python",
   "nbconvert_exporter": "python",
   "pygments_lexer": "ipython3",
   "version": "3.10.1"
  },
  "orig_nbformat": 4
 },
 "nbformat": 4,
 "nbformat_minor": 2
}
