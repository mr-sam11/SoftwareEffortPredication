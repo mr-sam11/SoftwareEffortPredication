{
 "cells": [
  {
   "cell_type": "code",
   "execution_count": 1,
   "metadata": {},
   "outputs": [],
   "source": [
    "# Importing the libraries\n",
    "import numpy as np \n",
    "import pandas as pd\n",
    "from sklearn.model_selection import train_test_split\n",
    "from sklearn.metrics import mean_squared_error, r2_score\n",
    "from sklearn.preprocessing import MinMaxScaler\n"
   ]
  },
  {
   "cell_type": "markdown",
   "metadata": {},
   "source": [
    "Reading the data"
   ]
  },
  {
   "cell_type": "markdown",
   "metadata": {},
   "source": [
    "Creating Independent and Dependent Variables"
   ]
  },
  {
   "cell_type": "code",
   "execution_count": 2,
   "metadata": {},
   "outputs": [],
   "source": [
    "# Reading the data\n",
    "dataset = pd.read_csv(\"Dataset/maxwell.arff.csv\")\n",
    "\n",
    "\n",
    "\n",
    "x = np.array(dataset.drop(['Effort'],axis=1))\n",
    "y = np.array(dataset['Effort'])"
   ]
  },
  {
   "cell_type": "markdown",
   "metadata": {},
   "source": [
    "Scaling the data"
   ]
  },
  {
   "cell_type": "code",
   "execution_count": 3,
   "metadata": {},
   "outputs": [],
   "source": [
    "scaler=MinMaxScaler(feature_range=(0,1))\n",
    "x_scaled=scaler.fit_transform(x)\n",
    "y=np.reshape(y,(62,1))\n",
    "y=scaler.fit_transform(y)"
   ]
  },
  {
   "cell_type": "markdown",
   "metadata": {},
   "source": [
    " Splitting the dataset into training and testing set (80/20)"
   ]
  },
  {
   "cell_type": "code",
   "execution_count": 4,
   "metadata": {},
   "outputs": [],
   "source": [
    "# Splitting the dataset into training and testing set (80/20)\n",
    "x_train, x_test, y_train, y_test = train_test_split(x_scaled, y, test_size = 0.2, random_state =67)"
   ]
  },
  {
   "cell_type": "code",
   "execution_count": 5,
   "metadata": {},
   "outputs": [
    {
     "data": {
      "text/plain": [
       "array([[0.05730181, 0.33333333, 0.5       , 0.5       , 0.        ,\n",
       "        0.33333333, 0.5       , 1.        , 0.25      , 0.33333333,\n",
       "        0.66666667, 1.        , 0.66666667, 0.33333333, 0.25      ,\n",
       "        0.5       , 0.5       ],\n",
       "       [0.09429764, 0.33333333, 0.25      , 0.75      , 0.33333333,\n",
       "        0.        , 0.25      , 0.33333333, 0.5       , 0.66666667,\n",
       "        1.        , 0.66666667, 0.66666667, 0.66666667, 0.5       ,\n",
       "        0.5       , 0.75      ],\n",
       "       [0.1596662 , 1.        , 0.25      , 0.5       , 0.33333333,\n",
       "        0.66666667, 0.5       , 0.66666667, 0.5       , 0.66666667,\n",
       "        0.66666667, 0.33333333, 0.66666667, 0.33333333, 0.25      ,\n",
       "        0.75      , 0.5       ],\n",
       "       [0.0403338 , 0.33333333, 0.75      , 0.75      , 0.        ,\n",
       "        0.33333333, 0.75      , 0.66666667, 0.25      , 0.        ,\n",
       "        0.33333333, 0.33333333, 0.33333333, 0.33333333, 0.25      ,\n",
       "        0.75      , 0.75      ],\n",
       "       [0.05591099, 0.33333333, 0.25      , 0.5       , 0.        ,\n",
       "        0.66666667, 0.5       , 0.66666667, 0.5       , 1.        ,\n",
       "        0.66666667, 0.33333333, 0.33333333, 0.66666667, 0.25      ,\n",
       "        0.75      , 0.5       ],\n",
       "       [0.16662031, 0.66666667, 0.75      , 0.5       , 1.        ,\n",
       "        0.33333333, 0.5       , 0.66666667, 0.75      , 1.        ,\n",
       "        0.66666667, 1.        , 0.66666667, 0.66666667, 0.75      ,\n",
       "        0.75      , 1.        ],\n",
       "       [0.10403338, 0.        , 0.5       , 0.5       , 0.33333333,\n",
       "        0.66666667, 0.5       , 0.66666667, 0.5       , 0.33333333,\n",
       "        1.        , 0.33333333, 0.66666667, 0.66666667, 0.5       ,\n",
       "        0.25      , 0.75      ],\n",
       "       [0.12433936, 0.66666667, 0.75      , 0.25      , 0.66666667,\n",
       "        0.33333333, 0.5       , 0.66666667, 0.5       , 0.33333333,\n",
       "        1.        , 0.33333333, 0.33333333, 0.66666667, 0.5       ,\n",
       "        0.75      , 0.75      ],\n",
       "       [0.10737135, 1.        , 0.5       , 0.25      , 0.33333333,\n",
       "        0.33333333, 0.5       , 0.33333333, 0.75      , 1.        ,\n",
       "        0.66666667, 0.66666667, 0.66666667, 0.66666667, 0.75      ,\n",
       "        0.25      , 0.5       ],\n",
       "       [0.        , 0.66666667, 0.25      , 0.5       , 0.33333333,\n",
       "        0.66666667, 0.25      , 0.33333333, 0.25      , 0.66666667,\n",
       "        0.66666667, 0.33333333, 1.        , 0.33333333, 0.5       ,\n",
       "        0.75      , 0.25      ],\n",
       "       [0.80834492, 1.        , 0.75      , 0.75      , 0.        ,\n",
       "        0.33333333, 0.5       , 0.66666667, 0.75      , 0.33333333,\n",
       "        0.66666667, 0.66666667, 1.        , 0.33333333, 0.25      ,\n",
       "        0.5       , 0.5       ],\n",
       "       [0.0433936 , 0.33333333, 0.5       , 0.5       , 0.33333333,\n",
       "        0.33333333, 0.5       , 1.        , 0.75      , 1.        ,\n",
       "        1.        , 1.        , 1.        , 0.66666667, 0.5       ,\n",
       "        0.25      , 0.5       ],\n",
       "       [0.67705146, 1.        , 0.75      , 0.5       , 0.66666667,\n",
       "        0.33333333, 0.75      , 1.        , 1.        , 0.66666667,\n",
       "        1.        , 0.66666667, 1.        , 1.        , 0.5       ,\n",
       "        0.        , 0.75      ],\n",
       "       [0.09513213, 0.66666667, 1.        , 1.        , 0.33333333,\n",
       "        0.33333333, 0.25      , 0.66666667, 0.75      , 1.        ,\n",
       "        1.        , 0.66666667, 0.66666667, 0.66666667, 0.5       ,\n",
       "        0.75      , 0.75      ],\n",
       "       [0.11655076, 0.66666667, 0.75      , 0.5       , 0.66666667,\n",
       "        0.33333333, 0.5       , 0.66666667, 0.5       , 0.33333333,\n",
       "        0.66666667, 0.66666667, 0.33333333, 0.33333333, 0.25      ,\n",
       "        0.5       , 0.5       ],\n",
       "       [0.09318498, 0.33333333, 0.5       , 0.5       , 0.33333333,\n",
       "        0.66666667, 0.5       , 0.66666667, 0.75      , 0.33333333,\n",
       "        0.66666667, 0.66666667, 0.33333333, 0.66666667, 1.        ,\n",
       "        0.75      , 0.75      ],\n",
       "       [0.55799722, 0.66666667, 0.75      , 0.5       , 0.66666667,\n",
       "        0.66666667, 0.75      , 0.66666667, 0.5       , 0.66666667,\n",
       "        0.66666667, 0.66666667, 1.        , 1.        , 0.75      ,\n",
       "        0.5       , 0.75      ],\n",
       "       [0.0581363 , 0.66666667, 0.5       , 0.75      , 0.33333333,\n",
       "        0.33333333, 0.5       , 0.66666667, 0.5       , 0.66666667,\n",
       "        0.66666667, 0.66666667, 0.66666667, 0.66666667, 0.75      ,\n",
       "        0.75      , 0.5       ],\n",
       "       [0.08984701, 0.33333333, 0.5       , 0.75      , 0.33333333,\n",
       "        0.33333333, 0.5       , 0.66666667, 0.5       , 0.33333333,\n",
       "        1.        , 1.        , 0.        , 0.66666667, 0.5       ,\n",
       "        0.5       , 0.5       ],\n",
       "       [0.04979138, 0.33333333, 0.5       , 0.75      , 0.        ,\n",
       "        0.66666667, 0.5       , 0.66666667, 0.5       , 0.33333333,\n",
       "        1.        , 1.        , 0.33333333, 0.33333333, 0.25      ,\n",
       "        0.5       , 0.5       ],\n",
       "       [0.03810848, 1.        , 0.5       , 0.75      , 0.        ,\n",
       "        0.33333333, 0.5       , 1.        , 0.5       , 1.        ,\n",
       "        0.33333333, 0.33333333, 0.33333333, 0.66666667, 0.75      ,\n",
       "        1.        , 0.5       ],\n",
       "       [0.02503477, 0.33333333, 0.5       , 0.75      , 1.        ,\n",
       "        0.33333333, 0.5       , 0.66666667, 0.5       , 0.33333333,\n",
       "        0.66666667, 0.66666667, 0.        , 0.66666667, 0.75      ,\n",
       "        0.5       , 0.5       ],\n",
       "       [0.1488178 , 0.66666667, 0.        , 0.75      , 0.66666667,\n",
       "        0.        , 0.5       , 0.66666667, 0.25      , 0.33333333,\n",
       "        0.        , 0.        , 0.        , 0.66666667, 1.        ,\n",
       "        0.5       , 0.5       ],\n",
       "       [0.07065369, 0.33333333, 0.25      , 0.5       , 0.        ,\n",
       "        0.66666667, 0.5       , 0.66666667, 0.5       , 0.66666667,\n",
       "        0.33333333, 0.33333333, 0.33333333, 0.33333333, 0.25      ,\n",
       "        0.75      , 0.5       ],\n",
       "       [0.00472879, 0.66666667, 0.75      , 0.25      , 0.        ,\n",
       "        0.33333333, 0.5       , 0.33333333, 0.75      , 0.66666667,\n",
       "        0.66666667, 0.66666667, 0.33333333, 0.66666667, 0.75      ,\n",
       "        1.        , 0.5       ],\n",
       "       [0.44506259, 1.        , 0.75      , 0.25      , 0.66666667,\n",
       "        0.33333333, 1.        , 0.66666667, 1.        , 0.33333333,\n",
       "        1.        , 1.        , 0.66666667, 1.        , 0.5       ,\n",
       "        0.75      , 1.        ],\n",
       "       [0.31265647, 0.66666667, 0.75      , 0.25      , 0.        ,\n",
       "        0.33333333, 0.75      , 1.        , 0.75      , 0.        ,\n",
       "        0.66666667, 0.        , 0.66666667, 0.33333333, 0.75      ,\n",
       "        0.5       , 0.75      ],\n",
       "       [0.06787204, 0.66666667, 0.75      , 0.5       , 0.66666667,\n",
       "        0.66666667, 0.75      , 0.33333333, 0.5       , 0.66666667,\n",
       "        1.        , 1.        , 0.33333333, 0.66666667, 0.75      ,\n",
       "        0.25      , 0.5       ],\n",
       "       [0.05702364, 0.33333333, 0.5       , 0.5       , 0.33333333,\n",
       "        0.66666667, 0.5       , 1.        , 0.25      , 0.66666667,\n",
       "        0.66666667, 0.33333333, 0.        , 0.66666667, 0.75      ,\n",
       "        0.25      , 0.75      ],\n",
       "       [0.22030598, 0.66666667, 0.75      , 0.25      , 0.66666667,\n",
       "        0.33333333, 1.        , 0.66666667, 0.75      , 1.        ,\n",
       "        1.        , 0.66666667, 0.33333333, 1.        , 0.75      ,\n",
       "        0.75      , 1.        ],\n",
       "       [0.0433936 , 0.33333333, 0.5       , 0.75      , 0.        ,\n",
       "        0.33333333, 0.5       , 0.66666667, 0.5       , 0.66666667,\n",
       "        0.33333333, 0.66666667, 0.        , 0.66666667, 0.5       ,\n",
       "        0.5       , 0.5       ],\n",
       "       [0.13908206, 0.        , 0.5       , 0.5       , 0.66666667,\n",
       "        0.        , 0.5       , 0.33333333, 0.5       , 0.66666667,\n",
       "        0.33333333, 0.33333333, 0.33333333, 0.66666667, 0.75      ,\n",
       "        0.5       , 0.5       ],\n",
       "       [0.10625869, 0.33333333, 0.        , 0.5       , 0.33333333,\n",
       "        0.33333333, 0.5       , 0.33333333, 0.75      , 1.        ,\n",
       "        0.33333333, 0.        , 0.33333333, 0.33333333, 0.5       ,\n",
       "        0.75      , 0.5       ],\n",
       "       [0.41112656, 1.        , 0.75      , 0.5       , 0.        ,\n",
       "        0.33333333, 0.5       , 0.66666667, 0.5       , 0.33333333,\n",
       "        0.66666667, 0.33333333, 0.66666667, 0.66666667, 0.75      ,\n",
       "        0.5       , 0.5       ],\n",
       "       [0.05702364, 0.        , 0.5       , 0.5       , 0.33333333,\n",
       "        0.        , 0.25      , 0.66666667, 0.5       , 0.33333333,\n",
       "        0.66666667, 0.33333333, 0.33333333, 0.66666667, 0.75      ,\n",
       "        0.75      , 0.5       ],\n",
       "       [0.14436718, 1.        , 0.25      , 0.25      , 0.        ,\n",
       "        0.66666667, 0.5       , 0.66666667, 0.75      , 0.66666667,\n",
       "        1.        , 1.        , 1.        , 0.66666667, 0.25      ,\n",
       "        0.25      , 0.75      ],\n",
       "       [0.15799722, 1.        , 0.25      , 0.5       , 0.        ,\n",
       "        0.33333333, 0.5       , 0.33333333, 0.5       , 1.        ,\n",
       "        1.        , 0.66666667, 1.        , 1.        , 0.        ,\n",
       "        1.        , 0.75      ],\n",
       "       [0.28094576, 0.66666667, 0.75      , 0.75      , 0.33333333,\n",
       "        1.        , 0.75      , 1.        , 1.        , 0.33333333,\n",
       "        0.66666667, 0.66666667, 0.33333333, 1.        , 0.25      ,\n",
       "        0.75      , 0.75      ],\n",
       "       [0.10431154, 0.        , 0.25      , 0.5       , 0.33333333,\n",
       "        0.        , 0.25      , 0.33333333, 0.75      , 1.        ,\n",
       "        0.66666667, 0.33333333, 0.33333333, 0.66666667, 0.75      ,\n",
       "        0.25      , 0.5       ],\n",
       "       [0.08484006, 0.        , 0.75      , 0.5       , 0.        ,\n",
       "        0.33333333, 0.25      , 0.66666667, 0.25      , 0.66666667,\n",
       "        0.66666667, 0.66666667, 0.        , 0.        , 0.5       ,\n",
       "        0.5       , 0.5       ],\n",
       "       [0.27454798, 1.        , 0.75      , 0.25      , 0.66666667,\n",
       "        0.33333333, 1.        , 0.66666667, 1.        , 0.33333333,\n",
       "        1.        , 1.        , 0.66666667, 1.        , 0.5       ,\n",
       "        0.75      , 1.        ],\n",
       "       [0.04116829, 0.66666667, 0.        , 0.75      , 0.        ,\n",
       "        0.33333333, 0.5       , 1.        , 0.25      , 0.33333333,\n",
       "        0.        , 0.33333333, 0.        , 0.66666667, 0.25      ,\n",
       "        0.75      , 0.5       ],\n",
       "       [0.03699583, 0.33333333, 0.25      , 0.5       , 0.        ,\n",
       "        0.33333333, 0.5       , 0.66666667, 0.25      , 1.        ,\n",
       "        0.33333333, 0.66666667, 0.        , 0.33333333, 0.25      ,\n",
       "        0.5       , 0.5       ],\n",
       "       [0.92350487, 0.66666667, 0.75      , 0.5       , 0.33333333,\n",
       "        0.66666667, 0.5       , 0.66666667, 0.75      , 1.        ,\n",
       "        0.66666667, 0.66666667, 0.66666667, 0.66666667, 0.75      ,\n",
       "        0.25      , 0.75      ],\n",
       "       [0.08845619, 0.        , 0.25      , 0.5       , 0.33333333,\n",
       "        0.        , 0.25      , 0.33333333, 0.75      , 1.        ,\n",
       "        0.66666667, 0.33333333, 0.33333333, 0.33333333, 0.5       ,\n",
       "        0.25      , 0.5       ],\n",
       "       [0.08261474, 1.        , 0.25      , 0.5       , 0.33333333,\n",
       "        0.33333333, 0.5       , 0.66666667, 0.25      , 0.        ,\n",
       "        0.66666667, 0.66666667, 0.66666667, 0.66666667, 0.75      ,\n",
       "        1.        , 0.75      ],\n",
       "       [0.1922114 , 0.        , 1.        , 0.5       , 0.66666667,\n",
       "        0.        , 0.5       , 0.        , 0.5       , 0.33333333,\n",
       "        0.33333333, 0.        , 0.        , 0.        , 0.        ,\n",
       "        0.        , 0.25      ],\n",
       "       [0.07426982, 0.33333333, 0.75      , 0.5       , 1.        ,\n",
       "        0.33333333, 0.5       , 0.66666667, 0.75      , 1.        ,\n",
       "        0.66666667, 0.33333333, 0.33333333, 0.66666667, 0.5       ,\n",
       "        0.5       , 0.5       ],\n",
       "       [0.28038943, 0.66666667, 0.25      , 0.25      , 0.66666667,\n",
       "        0.        , 0.25      , 0.        , 0.5       , 1.        ,\n",
       "        0.66666667, 0.66666667, 1.        , 0.66666667, 0.5       ,\n",
       "        0.25      , 0.5       ]])"
      ]
     },
     "execution_count": 5,
     "metadata": {},
     "output_type": "execute_result"
    }
   ],
   "source": [
    "x_train"
   ]
  },
  {
   "cell_type": "markdown",
   "metadata": {},
   "source": [
    "Stacking Model"
   ]
  },
  {
   "cell_type": "code",
   "execution_count": 6,
   "metadata": {},
   "outputs": [],
   "source": [
    "from sklearn.ensemble import StackingRegressor\n",
    "from sklearn.linear_model import LinearRegression\n",
    "from sklearn.neighbors import KNeighborsRegressor\n",
    "from sklearn.tree import DecisionTreeRegressor\n",
    "from sklearn.svm import SVR\n",
    "\n",
    "\n",
    "estimators = [('kn', KNeighborsRegressor()),('svr', SVR()),('dt', DecisionTreeRegressor())]\n",
    "\n",
    "level1 = LinearRegression()\n",
    "model = StackingRegressor(estimators=estimators, final_estimator=level1, cv=5)"
   ]
  },
  {
   "cell_type": "code",
   "execution_count": 7,
   "metadata": {},
   "outputs": [
    {
     "data": {
      "text/plain": [
       "StackingRegressor(cv=5,\n",
       "                  estimators=[('kn', KNeighborsRegressor()), ('svr', SVR()),\n",
       "                              ('dt', DecisionTreeRegressor())],\n",
       "                  final_estimator=LinearRegression())"
      ]
     },
     "execution_count": 7,
     "metadata": {},
     "output_type": "execute_result"
    }
   ],
   "source": [
    "\n",
    "# Train the model \n",
    "model.fit(x_train, y_train.ravel())"
   ]
  },
  {
   "cell_type": "markdown",
   "metadata": {},
   "source": [
    "Predicting the Close Price"
   ]
  },
  {
   "cell_type": "code",
   "execution_count": 8,
   "metadata": {},
   "outputs": [],
   "source": [
    "# Predicting the target values of the test set\n",
    "y_pred = model.predict(x_test)"
   ]
  },
  {
   "cell_type": "code",
   "execution_count": 9,
   "metadata": {},
   "outputs": [],
   "source": [
    "y_pred=np.reshape(y_pred,(13,1))\n",
    "y_test=np.reshape(y_test,(13,1))"
   ]
  },
  {
   "cell_type": "markdown",
   "metadata": {},
   "source": [
    "Finding the RMSE and MAPE"
   ]
  },
  {
   "cell_type": "markdown",
   "metadata": {},
   "source": [
    "Definition of Mean Absolute Percentage Error"
   ]
  },
  {
   "cell_type": "code",
   "execution_count": 10,
   "metadata": {},
   "outputs": [],
   "source": [
    "def mape(actual, pred): \n",
    "    actual, pred = np.array(actual), np.array(pred)\n",
    "    return np.mean(np.abs((actual - pred) / actual)) * 100"
   ]
  },
  {
   "cell_type": "code",
   "execution_count": 11,
   "metadata": {},
   "outputs": [],
   "source": [
    "def calculate_smape(actual, predicted) -> float:\n",
    "  \n",
    "    # Convert actual and predicted to numpy\n",
    "    # array data type if not already\n",
    "    if not all([isinstance(actual, np.ndarray), \n",
    "                isinstance(predicted, np.ndarray)]):\n",
    "        actual, predicted = np.array(actual),\n",
    "        np.array(predicted)\n",
    "  \n",
    "    return round(\n",
    "        np.mean(\n",
    "            np.abs(predicted - actual) / \n",
    "            ((np.abs(predicted) + np.abs(actual))/2)\n",
    "        )*100, 2\n",
    "    )"
   ]
  },
  {
   "cell_type": "code",
   "execution_count": 12,
   "metadata": {},
   "outputs": [
    {
     "name": "stdout",
     "output_type": "stream",
     "text": [
      "\n",
      "MSE:\n",
      " 0.02722608677576568\n",
      "\n",
      "RMSE:\n",
      " 0.16500329322703133\n",
      "\n",
      "MAPE:\n",
      " 371.8058265000212\n",
      "\n",
      "SMAPE:\n",
      " 91.89\n",
      "\n",
      " Adj R2 score:\n",
      " 0.3579774348010446\n"
     ]
    }
   ],
   "source": [
    "# RMSE (Root Mean Square Error)\n",
    "mse=mean_squared_error(y_test, y_pred)\n",
    "print(\"\\nMSE:\\n\",mse)\n",
    "rmse = np.sqrt(mean_squared_error(y_test, y_pred))\n",
    "print(\"\\nRMSE:\\n\",rmse)\n",
    "mape=mape(y_test, y_pred)\n",
    "print(\"\\nMAPE:\\n\",mape)\n",
    "\n",
    "smape = calculate_smape(y_test, y_pred)\n",
    "print(\"\\nSMAPE:\\n\",smape)\n",
    "r2_score=1 - (1-model.score(x_train, y_train))*(len(y_train)-1)/(len(y_train)-x_train.shape[1]-1)\n",
    "print(\"\\n Adj R2 score:\\n\",r2_score)"
   ]
  },
  {
   "cell_type": "code",
   "execution_count": 13,
   "metadata": {},
   "outputs": [],
   "source": [
    "\n",
    "y_pred=scaler.inverse_transform(y_pred)"
   ]
  },
  {
   "cell_type": "code",
   "execution_count": 14,
   "metadata": {},
   "outputs": [],
   "source": [
    "\n",
    "\n",
    "y_test=scaler.inverse_transform(y_test)"
   ]
  },
  {
   "cell_type": "code",
   "execution_count": 15,
   "metadata": {},
   "outputs": [],
   "source": [
    "\n",
    "y_test=np.reshape(y_test,(13,))\n",
    "y_pred=np.reshape(y_pred,(13,))"
   ]
  },
  {
   "cell_type": "code",
   "execution_count": 16,
   "metadata": {},
   "outputs": [
    {
     "name": "stdout",
     "output_type": "stream",
     "text": [
      "    Actual effort  Predicted effort\n",
      "0          5279.0      22481.157695\n",
      "1          3600.0       6741.017950\n",
      "2          1060.0       5668.280742\n",
      "3         11900.0       9016.396846\n",
      "4          4456.0       6723.039255\n",
      "5          7320.0       8107.231330\n",
      "6           845.0       5676.412236\n",
      "7          1520.0       2270.835756\n",
      "8         39479.0      11198.466625\n",
      "9         25910.0      40659.367867\n",
      "10         1233.0       4174.695248\n",
      "11         9369.0       5754.191654\n",
      "12          900.0       3285.158657\n"
     ]
    }
   ],
   "source": [
    "dfr=pd.DataFrame({'Actual effort':y_test, 'Predicted effort':y_pred})\n",
    "print(dfr)"
   ]
  },
  {
   "cell_type": "code",
   "execution_count": 17,
   "metadata": {},
   "outputs": [
    {
     "data": {
      "image/png": "[encoded data removed]",
      "text/plain": [
       "<Figure size 720x576 with 1 Axes>"
      ]
     },
     "metadata": {
      "needs_background": "light"
     },
     "output_type": "display_data"
    }
   ],
   "source": [
    "#Predicted vs Actual Close Value \n",
    "from matplotlib import pyplot as plt \n",
    "plt.figure(figsize=(10,8))\n",
    "plt.plot(y_test, label=\"Actual Value\")\n",
    "plt.plot(y_pred, label=\"Stacking value\")\n",
    "plt.title(\"Prediction by Stacking\")\n",
    "plt.xlabel(\"Project\")\n",
    "plt.ylabel(\"Effort\")\n",
    "plt.legend()\n",
    "plt.show()"
   ]
  }
 ],
 "metadata": {
  "interpreter": {
   "hash": "2151b42579b4a137ca7c4186f7cd8603a15c6499005cacc37f762ae71ad2c0c8"
  },
  "kernelspec": {
   "display_name": "Python 3.10.1 64-bit",
   "language": "python",
   "name": "python3"
  },
  "language_info": {
   "codemirror_mode": {
    "name": "ipython",
    "version": 3
   },
   "file_extension": ".py",
   "mimetype": "text/x-python",
   "name": "python",
   "nbconvert_exporter": "python",
   "pygments_lexer": "ipython3",
   "version": "3.10.1"
  },
  "orig_nbformat": 4
 },
 "nbformat": 4,
 "nbformat_minor": 2
}
