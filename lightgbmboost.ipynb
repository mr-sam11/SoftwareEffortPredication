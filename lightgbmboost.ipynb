{
 "cells": [
  {
   "cell_type": "code",
   "execution_count": 1,
   "metadata": {},
   "outputs": [],
   "source": [
    "# Importing the libraries\n",
    "import numpy as np \n",
    "import pandas as pd\n",
    "from sklearn.model_selection import train_test_split\n",
    "from sklearn.metrics import mean_squared_error, r2_score\n",
    "from sklearn.preprocessing import MinMaxScaler\n"
   ]
  },
  {
   "cell_type": "markdown",
   "metadata": {},
   "source": [
    "Reading the data"
   ]
  },
  {
   "cell_type": "markdown",
   "metadata": {},
   "source": [
    "Creating Independent and Dependent Variables"
   ]
  },
  {
   "cell_type": "code",
   "execution_count": 2,
   "metadata": {},
   "outputs": [],
   "source": [
    "# Reading the data\n",
    "dataset = pd.read_csv(\"Dataset/Desharnais.csv\")\n",
    "dataset.head()\n",
    "\n",
    "max_corr_features =  [ 'TeamExp', 'ManagerExp', 'YearEnd', 'Length', 'Transactions', 'Entities',\n",
    "        'PointsNonAdjust', 'Adjustment', 'PointsAjust']\n",
    "\n",
    "\n",
    "x=np.array(dataset[max_corr_features])\n",
    "\n",
    "y=np.array(dataset['Effort'])"
   ]
  },
  {
   "cell_type": "markdown",
   "metadata": {},
   "source": [
    "Scaling the data"
   ]
  },
  {
   "cell_type": "code",
   "execution_count": 3,
   "metadata": {},
   "outputs": [],
   "source": [
    "scaler=MinMaxScaler(feature_range=(0,1))\n",
    "x_scaled=scaler.fit_transform(x)\n",
    "y=np.reshape(y,(81,1))\n",
    "y=scaler.fit_transform(y)"
   ]
  },
  {
   "cell_type": "markdown",
   "metadata": {},
   "source": [
    " Splitting the dataset into training and testing set (80/20)"
   ]
  },
  {
   "cell_type": "code",
   "execution_count": 4,
   "metadata": {},
   "outputs": [],
   "source": [
    "# Splitting the dataset into training and testing set (80/20)\n",
    "x_train, x_test, y_train, y_test = train_test_split(x_scaled, y, test_size = 0.2, random_state =67)"
   ]
  },
  {
   "cell_type": "code",
   "execution_count": 5,
   "metadata": {},
   "outputs": [
    {
     "data": {
      "text/plain": [
       "array([[1.        , 1.        , 0.66666667, 0.31578947, 0.06841505,\n",
       "        0.17631579, 0.06641366, 0.19148936, 0.0483871 ],\n",
       "       [1.        , 0.25      , 0.5       , 0.34210526, 0.08779932,\n",
       "        0.58684211, 0.23055028, 0.59574468, 0.23529412],\n",
       "       [1.        , 0.5       , 0.66666667, 0.13157895, 0.07981756,\n",
       "        0.31842105, 0.12713472, 0.46808511, 0.12144213],\n",
       "       [0.4       , 0.25      , 0.66666667, 0.10526316, 0.07867731,\n",
       "        0.24210526, 0.09867173, 0.19148936, 0.0740038 ],\n",
       "       [0.4       , 0.625     , 0.66666667, 0.18421053, 0.09122007,\n",
       "        0.50789474, 0.20493359, 0.59574468, 0.20967742],\n",
       "       [1.        , 0.625     , 0.5       , 0.21052632, 0.24401368,\n",
       "        0.3       , 0.25711575, 0.4893617 , 0.24478178],\n",
       "       [0.6       , 0.25      , 0.5       , 0.21052632, 0.12542759,\n",
       "        0.09210526, 0.08349146, 0.42553191, 0.07874763],\n",
       "       [0.2       , 0.125     , 0.66666667, 0.07894737, 0.21436716,\n",
       "        0.30789474, 0.23529412, 0.59574468, 0.24003795],\n",
       "       [0.2       , 0.125     , 0.66666667, 0.07894737, 0.10034208,\n",
       "        0.21578947, 0.10721063, 0.70212766, 0.12333966],\n",
       "       [0.2       , 0.125     , 0.66666667, 0.10526316, 0.21778791,\n",
       "        0.29473684, 0.23339658, 0.53191489, 0.22865275],\n",
       "       [0.        , 0.        , 0.83333333, 0.18421053, 0.28620296,\n",
       "        0.36052632, 0.31404175, 0.40425532, 0.28273245],\n",
       "       [0.6       , 0.5       , 0.5       , 0.18421053, 0.11060433,\n",
       "        0.08421053, 0.0683112 , 0.0212766 , 0.03889943],\n",
       "       [1.        , 0.5       , 0.5       , 0.26315789, 0.1391106 ,\n",
       "        0.45526316, 0.22580645, 0.9787234 , 0.28368121],\n",
       "       [0.6       , 0.5       , 0.5       , 0.42105263, 0.24173318,\n",
       "        0.3       , 0.25521822, 0.63829787, 0.26565465],\n",
       "       [0.8       , 0.5       , 0.5       , 0.13157895, 0.08779932,\n",
       "        0.11052632, 0.05882353, 0.57446809, 0.0654649 ],\n",
       "       [0.        , 0.625     , 0.66666667, 1.        , 0.31356899,\n",
       "        0.58684211, 0.41840607, 0.95744681, 0.50189753],\n",
       "       [1.        , 0.5       , 0.5       , 0.18421053, 0.05473204,\n",
       "        0.09473684, 0.0256167 , 0.80851064, 0.04364326],\n",
       "       [0.4       , 0.5       , 0.66666667, 0.18421053, 0.21094641,\n",
       "        0.23684211, 0.20683112, 0.63829787, 0.21726755],\n",
       "       [0.8       , 0.625     , 0.5       , 0.18421053, 0.17445838,\n",
       "        0.14210526, 0.14231499, 0.57446809, 0.14611006],\n",
       "       [0.8       , 0.5       , 0.5       , 0.21052632, 0.09920182,\n",
       "        0.26578947, 0.12428843, 0.5106383 , 0.12333966],\n",
       "       [0.2       , 0.625     , 0.66666667, 0.13157895, 0.10034208,\n",
       "        0.09210526, 0.0626186 , 0.0212766 , 0.03510436],\n",
       "       [1.        , 0.625     , 0.83333333, 0.21052632, 0.18814139,\n",
       "        0.18684211, 0.16982922, 0.76595745, 0.19449715],\n",
       "       [1.        , 0.625     , 0.5       , 0.28947368, 0.25085519,\n",
       "        0.42631579, 0.30834915, 0.72340426, 0.33396584],\n",
       "       [0.8       , 0.625     , 0.83333333, 0.34210526, 0.        ,\n",
       "        0.99736842, 0.30550285, 0.34042553, 0.26375712],\n",
       "       [0.4       , 0.25      , 0.33333333, 0.05263158, 0.02736602,\n",
       "        0.17105263, 0.03036053, 0.29787234, 0.02466793],\n",
       "       [0.4       , 0.375     , 0.83333333, 0.13157895, 0.04332953,\n",
       "        0.06578947, 0.0056926 , 0.19148936, 0.        ],\n",
       "       [0.6       , 0.625     , 0.83333333, 0.26315789, 0.31927024,\n",
       "        0.21315789, 0.28842505, 0.4893617 , 0.27419355],\n",
       "       [0.6       , 0.5       , 0.5       , 0.15789474, 0.12200684,\n",
       "        0.17105263, 0.10910816, 0.27659574, 0.08918406],\n",
       "       [1.        , 0.625     , 0.5       , 0.92105263, 1.        ,\n",
       "        0.61578947, 1.        , 0.61702128, 1.        ],\n",
       "       [0.6       , 0.375     , 1.        , 0.21052632, 0.27708096,\n",
       "        0.        , 0.17647059, 0.4893617 , 0.16982922],\n",
       "       [0.4       , 0.25      , 0.66666667, 0.28947368, 0.13340935,\n",
       "        0.26315789, 0.15180266, 0.38297872, 0.13567362],\n",
       "       [1.        , 0.625     , 0.5       , 0.39473684, 0.12200684,\n",
       "        0.42894737, 0.20208729, 0.46808511, 0.19070209],\n",
       "       [0.8       , 0.25      , 0.5       , 0.34210526, 0.15849487,\n",
       "        0.83421053, 0.37855787, 0.72340426, 0.40702087],\n",
       "       [0.2       , 0.375     , 0.33333333, 0.13157895, 0.23261117,\n",
       "        0.17368421, 0.20208729, 0.0212766 , 0.13377609],\n",
       "       [0.8       , 0.375     , 0.66666667, 0.13157895, 0.10490308,\n",
       "        0.1       , 0.06925996, 0.21276596, 0.05218216],\n",
       "       [0.4       , 0.375     , 0.83333333, 0.10526316, 0.07411631,\n",
       "        0.09473684, 0.04174573, 0.42553191, 0.04079696],\n",
       "       [1.        , 0.5       , 0.16666667, 0.28947368, 0.24857469,\n",
       "        0.17368421, 0.21537002, 0.61702128, 0.22296015],\n",
       "       [0.6       , 0.625     , 0.83333333, 0.86842105, 0.74344356,\n",
       "        0.32894737, 0.68311195, 0.38297872, 0.60341556],\n",
       "       [0.6       , 0.375     , 1.        , 0.05263158, 0.13340935,\n",
       "        0.11052632, 0.09677419, 0.70212766, 0.11195446],\n",
       "       [0.8       , 0.5       , 1.        , 0.39473684, 0.3340935 ,\n",
       "        0.36315789, 0.35483871, 1.        , 0.4373814 ],\n",
       "       [0.4       , 0.25      , 0.66666667, 0.28947368, 0.05245154,\n",
       "        0.27631579, 0.08918406, 0.14893617, 0.06356736],\n",
       "       [0.6       , 0.        , 0.83333333, 0.23684211, 0.24515393,\n",
       "        0.27105263, 0.24762808, 0.4893617 , 0.23434535],\n",
       "       [1.        , 0.375     , 0.66666667, 0.10526316, 0.05587229,\n",
       "        0.07105263, 0.01802657, 0.5106383 , 0.0227704 ],\n",
       "       [0.6       , 0.125     , 0.66666667, 0.13157895, 0.07069555,\n",
       "        0.6       , 0.22106262, 0.68085106, 0.23719165],\n",
       "       [0.8       , 0.5       , 0.83333333, 0.10526316, 0.12656784,\n",
       "        0.31315789, 0.16413662, 0.21276596, 0.12808349],\n",
       "       [0.4       , 0.25      , 1.        , 0.23684211, 0.0627138 ,\n",
       "        0.12368421, 0.0426945 , 0.42553191, 0.04174573],\n",
       "       [0.4       , 0.25      , 0.5       , 0.10526316, 0.21094641,\n",
       "        0.22105263, 0.20113852, 0.63829787, 0.21157495],\n",
       "       [1.        , 0.75      , 0.66666667, 0.65789474, 0.53933865,\n",
       "        0.57894737, 0.60341556, 0.44680851, 0.55313093],\n",
       "       [0.8       , 1.        , 0.66666667, 0.31578947, 0.04104903,\n",
       "        1.        , 0.34060721, 0.23404255, 0.27324478],\n",
       "       [0.4       , 0.25      , 0.66666667, 0.21052632, 0.15507412,\n",
       "        0.08157895, 0.10436433, 0.46808511, 0.10056926],\n",
       "       [0.4       , 0.5       , 0.66666667, 0.28947368, 0.14025086,\n",
       "        0.21578947, 0.14041746, 0.        , 0.08823529],\n",
       "       [0.6       , 0.5       , 0.33333333, 0.31578947, 0.14253136,\n",
       "        0.18421053, 0.13092979, 0.17021277, 0.09772296],\n",
       "       [1.        , 0.5       , 0.66666667, 0.28947368, 0.52451539,\n",
       "        0.44473684, 0.5426945 , 0.80851064, 0.60246679],\n",
       "       [1.        , 0.25      , 0.83333333, 0.5       , 0.336374  ,\n",
       "        0.18684211, 0.29316888, 0.72340426, 0.31783681],\n",
       "       [1.        , 0.625     , 0.        , 0.60526316, 0.44013683,\n",
       "        0.48947368, 0.4886148 , 0.74468085, 0.52656546],\n",
       "       [0.6       , 0.5       , 0.83333333, 0.68421053, 0.18700114,\n",
       "        0.85526316, 0.40986717, 0.29787234, 0.34345351],\n",
       "       [0.6       , 0.625     , 0.66666667, 0.10526316, 0.3386545 ,\n",
       "        0.32894737, 0.34629981, 0.68085106, 0.36527514],\n",
       "       [0.4       , 0.5       , 0.66666667, 0.42105263, 0.35119726,\n",
       "        0.29473684, 0.34440228, 0.61702128, 0.35104364],\n",
       "       [0.8       , 0.625     , 0.16666667, 0.07894737, 0.07867731,\n",
       "        0.08157895, 0.04079696, 0.40425532, 0.03889943],\n",
       "       [0.4       , 0.375     , 0.16666667, 0.31578947, 0.2018244 ,\n",
       "        0.11842105, 0.15654649, 0.42553191, 0.14421252],\n",
       "       [0.8       , 0.625     , 0.83333333, 0.23684211, 0.10490308,\n",
       "        0.13157895, 0.08064516, 0.08510638, 0.05218216],\n",
       "       [0.2       , 0.        , 0.33333333, 0.55263158, 0.14823261,\n",
       "        0.35789474, 0.19829222, 0.36170213, 0.17362429],\n",
       "       [0.4       , 0.25      , 0.83333333, 0.28947368, 0.05929304,\n",
       "        0.23421053, 0.07969639, 0.27659574, 0.06451613],\n",
       "       [0.4       , 0.5       , 0.66666667, 0.13157895, 0.03762828,\n",
       "        0.06315789, 0.        , 0.46808511, 0.00474383]])"
      ]
     },
     "execution_count": 5,
     "metadata": {},
     "output_type": "execute_result"
    }
   ],
   "source": [
    "x_train"
   ]
  },
  {
   "cell_type": "markdown",
   "metadata": {},
   "source": [
    " LGB Model"
   ]
  },
  {
   "cell_type": "code",
   "execution_count": 6,
   "metadata": {},
   "outputs": [
    {
     "name": "stderr",
     "output_type": "stream",
     "text": [
      "c:\\Users\\sachi\\AppData\\Local\\Programs\\Python\\Python310\\lib\\site-packages\\sklearn\\utils\\validation.py:993: DataConversionWarning: A column-vector y was passed when a 1d array was expected. Please change the shape of y to (n_samples, ), for example using ravel().\n",
      "  y = column_or_1d(y, warn=True)\n"
     ]
    },
    {
     "data": {
      "text/plain": [
       "LGBMRegressor(learning_rate=0.09, max_depth=-5, random_state=42)"
      ]
     },
     "execution_count": 6,
     "metadata": {},
     "output_type": "execute_result"
    }
   ],
   "source": [
    "\n",
    "import lightgbm as lgb\n",
    "\n",
    "model = lgb.LGBMRegressor(learning_rate=0.09,max_depth=-5,random_state=42)\n",
    "model.fit(x_train,y_train)"
   ]
  },
  {
   "cell_type": "markdown",
   "metadata": {},
   "source": [
    "Predicting the Close Price"
   ]
  },
  {
   "cell_type": "code",
   "execution_count": 7,
   "metadata": {},
   "outputs": [],
   "source": [
    "# Predicting the target values of the test set\n",
    "y_pred = model.predict(x_test)"
   ]
  },
  {
   "cell_type": "code",
   "execution_count": 8,
   "metadata": {},
   "outputs": [],
   "source": [
    "y_pred=np.reshape(y_pred,(17,1))\n",
    "y_test=np.reshape(y_test,(17,1))"
   ]
  },
  {
   "cell_type": "markdown",
   "metadata": {},
   "source": [
    "Finding the RMSE and MAPE"
   ]
  },
  {
   "cell_type": "markdown",
   "metadata": {},
   "source": [
    "Definition of Mean Absolute Percentage Error"
   ]
  },
  {
   "cell_type": "code",
   "execution_count": 9,
   "metadata": {},
   "outputs": [],
   "source": [
    "def mape(actual, pred): \n",
    "    actual, pred = np.array(actual), np.array(pred)\n",
    "    return np.mean(np.abs((actual - pred) / actual)) * 100"
   ]
  },
  {
   "cell_type": "code",
   "execution_count": 10,
   "metadata": {},
   "outputs": [],
   "source": [
    "def calculate_smape(actual, predicted) -> float:\n",
    "  \n",
    "    # Convert actual and predicted to numpy\n",
    "    # array data type if not already\n",
    "    if not all([isinstance(actual, np.ndarray), \n",
    "                isinstance(predicted, np.ndarray)]):\n",
    "        actual, predicted = np.array(actual),\n",
    "        np.array(predicted)\n",
    "  \n",
    "    return round(\n",
    "        np.mean(\n",
    "            np.abs(predicted - actual) / \n",
    "            ((np.abs(predicted) + np.abs(actual))/2)\n",
    "        )*100, 2\n",
    "    )"
   ]
  },
  {
   "cell_type": "code",
   "execution_count": 12,
   "metadata": {},
   "outputs": [
    {
     "name": "stdout",
     "output_type": "stream",
     "text": [
      "\n",
      "MSE:\n",
      " 0.014475215312711856\n",
      "\n",
      "RMSE:\n",
      " 0.1203129889609258\n",
      "\n",
      "MAPE:\n",
      " 99.18990026160205\n",
      "\n",
      "SMAPE:\n",
      " 50.85\n",
      "\n",
      " Adj R2 score:\n",
      " 0.4095263395743347\n"
     ]
    }
   ],
   "source": [
    "\n",
    "# RMSE (Root Mean Square Error)\n",
    "mse=mean_squared_error(y_test, y_pred)\n",
    "print(\"\\nMSE:\\n\",mse)\n",
    "rmse = np.sqrt(mean_squared_error(y_test, y_pred))\n",
    "print(\"\\nRMSE:\\n\",rmse)\n",
    "mape=mape(y_test, y_pred)\n",
    "print(\"\\nMAPE:\\n\",mape)\n",
    "\n",
    "smape = calculate_smape(y_test, y_pred)\n",
    "print(\"\\nSMAPE:\\n\",smape)\n",
    "r2_score=1 - (1-model.score(x_train, y_train))*(len(y_train)-1)/(len(y_train)-x_train.shape[1]-1)\n",
    "print(\"\\n Adj R2 score:\\n\",r2_score)"
   ]
  },
  {
   "cell_type": "code",
   "execution_count": 13,
   "metadata": {},
   "outputs": [],
   "source": [
    "\n",
    "y_pred=scaler.inverse_transform(y_pred)"
   ]
  },
  {
   "cell_type": "code",
   "execution_count": 14,
   "metadata": {},
   "outputs": [],
   "source": [
    "\n",
    "\n",
    "y_test=scaler.inverse_transform(y_test)"
   ]
  },
  {
   "cell_type": "code",
   "execution_count": 15,
   "metadata": {},
   "outputs": [],
   "source": [
    "\n",
    "y_test=np.reshape(y_test,(17,))\n",
    "y_pred=np.reshape(y_pred,(17,))"
   ]
  },
  {
   "cell_type": "code",
   "execution_count": 16,
   "metadata": {},
   "outputs": [
    {
     "name": "stdout",
     "output_type": "stream",
     "text": [
      "    Actual Effort  Predicted Effort\n",
      "0          5152.0       5855.208107\n",
      "1         14973.0       9548.306346\n",
      "2          5180.0       6669.696938\n",
      "3         11361.0       9548.306346\n",
      "4          2149.0       2081.833341\n",
      "5          4067.0       4645.355632\n",
      "6          9051.0       6349.786948\n",
      "7          3948.0       9751.426672\n",
      "8           847.0       2552.212044\n",
      "9          2723.0       1447.745447\n",
      "10         3437.0       7544.580789\n",
      "11          805.0       1988.933569\n",
      "12         1617.0       1716.415748\n",
      "13        13860.0       9548.306346\n",
      "14         6699.0       6189.141620\n",
      "15         4620.0       6078.142530\n",
      "16         7854.0       4094.092872\n"
     ]
    }
   ],
   "source": [
    "dfr=pd.DataFrame({'Actual Effort':y_test, 'Predicted Effort':y_pred})\n",
    "print(dfr)"
   ]
  },
  {
   "cell_type": "code",
   "execution_count": 17,
   "metadata": {},
   "outputs": [
    {
     "data": {
      "image/png": "[encoded data removed]",
      "text/plain": [
       "<Figure size 720x576 with 1 Axes>"
      ]
     },
     "metadata": {
      "needs_background": "light"
     },
     "output_type": "display_data"
    }
   ],
   "source": [
    "#Predicted vs Actual Close Value \n",
    "from matplotlib import pyplot as plt \n",
    "plt.figure(figsize=(10,8))\n",
    "plt.plot(y_test, label=\"Actual Value\")\n",
    "plt.plot(y_pred, label=\"SVM value\")\n",
    "plt.title(\"Prediction by SVM\")\n",
    "plt.xlabel(\"Projects\")\n",
    "plt.ylabel(\"Effort\")\n",
    "plt.legend()\n",
    "plt.show()"
   ]
  }
 ],
 "metadata": {
  "interpreter": {
   "hash": "2151b42579b4a137ca7c4186f7cd8603a15c6499005cacc37f762ae71ad2c0c8"
  },
  "kernelspec": {
   "display_name": "Python 3.10.1 64-bit",
   "language": "python",
   "name": "python3"
  },
  "language_info": {
   "codemirror_mode": {
    "name": "ipython",
    "version": 3
   },
   "file_extension": ".py",
   "mimetype": "text/x-python",
   "name": "python",
   "nbconvert_exporter": "python",
   "pygments_lexer": "ipython3",
   "version": "3.10.1"
  },
  "orig_nbformat": 4
 },
 "nbformat": 4,
 "nbformat_minor": 2
}
