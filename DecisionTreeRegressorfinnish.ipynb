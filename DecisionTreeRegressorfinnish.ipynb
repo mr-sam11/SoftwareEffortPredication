{
 "cells": [
  {
   "cell_type": "code",
   "execution_count": 38,
   "metadata": {},
   "outputs": [],
   "source": [
    "# Importing the libraries\n",
    "import numpy as np \n",
    "import pandas as pd\n",
    "from sklearn.model_selection import train_test_split\n",
    "from sklearn.metrics import mean_squared_error\n",
    "from sklearn.preprocessing import MinMaxScaler\n"
   ]
  },
  {
   "cell_type": "code",
   "execution_count": 39,
   "metadata": {},
   "outputs": [],
   "source": [
    "# Reading the data\n",
    "dataset = pd.read_csv(\"Dataset\\\\finnish.arff.csv\")\n",
    "x = np.array(dataset.drop(['Effort'],axis=1))\n",
    "y = np.array(dataset['Effort'])"
   ]
  },
  {
   "cell_type": "code",
   "execution_count": 40,
   "metadata": {},
   "outputs": [
    {
     "data": {
      "text/html": [
       "<div>\n",
       "<style scoped>\n",
       "    .dataframe tbody tr th:only-of-type {\n",
       "        vertical-align: middle;\n",
       "    }\n",
       "\n",
       "    .dataframe tbody tr th {\n",
       "        vertical-align: top;\n",
       "    }\n",
       "\n",
       "    .dataframe thead th {\n",
       "        text-align: right;\n",
       "    }\n",
       "</style>\n",
       "<table border=\"1\" class=\"dataframe\">\n",
       "  <thead>\n",
       "    <tr style=\"text-align: right;\">\n",
       "      <th></th>\n",
       "      <th>HW</th>\n",
       "      <th>AR</th>\n",
       "      <th>FP</th>\n",
       "      <th>CO</th>\n",
       "      <th>Effort</th>\n",
       "    </tr>\n",
       "  </thead>\n",
       "  <tbody>\n",
       "    <tr>\n",
       "      <th>0</th>\n",
       "      <td>1</td>\n",
       "      <td>1</td>\n",
       "      <td>1364</td>\n",
       "      <td>10</td>\n",
       "      <td>17778</td>\n",
       "    </tr>\n",
       "    <tr>\n",
       "      <th>1</th>\n",
       "      <td>1</td>\n",
       "      <td>1</td>\n",
       "      <td>648</td>\n",
       "      <td>10</td>\n",
       "      <td>8800</td>\n",
       "    </tr>\n",
       "    <tr>\n",
       "      <th>2</th>\n",
       "      <td>1</td>\n",
       "      <td>1</td>\n",
       "      <td>1282</td>\n",
       "      <td>10</td>\n",
       "      <td>26670</td>\n",
       "    </tr>\n",
       "    <tr>\n",
       "      <th>3</th>\n",
       "      <td>1</td>\n",
       "      <td>1</td>\n",
       "      <td>176</td>\n",
       "      <td>10</td>\n",
       "      <td>1330</td>\n",
       "    </tr>\n",
       "    <tr>\n",
       "      <th>4</th>\n",
       "      <td>1</td>\n",
       "      <td>3</td>\n",
       "      <td>627</td>\n",
       "      <td>10</td>\n",
       "      <td>14504</td>\n",
       "    </tr>\n",
       "  </tbody>\n",
       "</table>\n",
       "</div>"
      ],
      "text/plain": [
       "   HW  AR    FP  CO  Effort\n",
       "0   1   1  1364  10   17778\n",
       "1   1   1   648  10    8800\n",
       "2   1   1  1282  10   26670\n",
       "3   1   1   176  10    1330\n",
       "4   1   3   627  10   14504"
      ]
     },
     "execution_count": 40,
     "metadata": {},
     "output_type": "execute_result"
    }
   ],
   "source": [
    "dataset.head()"
   ]
  },
  {
   "cell_type": "code",
   "execution_count": 41,
   "metadata": {},
   "outputs": [
    {
     "data": {
      "text/plain": [
       "(38,)"
      ]
     },
     "execution_count": 41,
     "metadata": {},
     "output_type": "execute_result"
    }
   ],
   "source": [
    "y.shape"
   ]
  },
  {
   "cell_type": "markdown",
   "metadata": {},
   "source": []
  },
  {
   "cell_type": "code",
   "execution_count": 42,
   "metadata": {},
   "outputs": [],
   "source": [
    "scaler=MinMaxScaler(feature_range=(0,1))\n",
    "x=scaler.fit_transform(x)\n",
    "y=np.reshape(y,(38,1))\n",
    "y=scaler.fit_transform(y)"
   ]
  },
  {
   "cell_type": "code",
   "execution_count": 43,
   "metadata": {},
   "outputs": [],
   "source": [
    "X_train , X_test, y_train, y_test = train_test_split(x,y,test_size=0.2,random_state=35) "
   ]
  },
  {
   "cell_type": "code",
   "execution_count": 44,
   "metadata": {},
   "outputs": [],
   "source": [
    "from sklearn.tree import DecisionTreeRegressor\n",
    "regr = DecisionTreeRegressor()\n",
    "\n",
    "\n",
    "regr.fit(X_train,y_train.ravel())\n",
    "# Predicting the target values of the test set\n",
    "y_pred=regr.predict(X_test)\n",
    "\n",
    " "
   ]
  },
  {
   "cell_type": "code",
   "execution_count": 45,
   "metadata": {},
   "outputs": [
    {
     "data": {
      "text/plain": [
       "(38, 1)"
      ]
     },
     "execution_count": 45,
     "metadata": {},
     "output_type": "execute_result"
    }
   ],
   "source": [
    "y.shape"
   ]
  },
  {
   "cell_type": "code",
   "execution_count": 46,
   "metadata": {},
   "outputs": [],
   "source": [
    "y_pred=np.reshape(y_pred,(8,1))\n",
    "y_test=np.reshape(y_test,(8,1))"
   ]
  },
  {
   "cell_type": "code",
   "execution_count": 47,
   "metadata": {},
   "outputs": [],
   "source": [
    "def mape(actual, pred): \n",
    "    actual, pred = np.array(actual), np.array(pred)\n",
    "    return np.mean(np.abs((actual - pred) / actual)) * 100"
   ]
  },
  {
   "cell_type": "code",
   "execution_count": 48,
   "metadata": {},
   "outputs": [],
   "source": [
    "# y_pred"
   ]
  },
  {
   "cell_type": "code",
   "execution_count": 49,
   "metadata": {},
   "outputs": [],
   "source": [
    "# y_test"
   ]
  },
  {
   "cell_type": "code",
   "execution_count": 50,
   "metadata": {},
   "outputs": [],
   "source": [
    "def calculate_smape(actual, predicted) -> float:\n",
    "  \n",
    "    # Convert actual and predicted to numpy\n",
    "    # array data type if not already\n",
    "    if not all([isinstance(actual, np.ndarray), \n",
    "                isinstance(predicted, np.ndarray)]):\n",
    "        actual, predicted = np.array(actual),\n",
    "        np.array(predicted)\n",
    "  \n",
    "    return round(\n",
    "        np.mean(\n",
    "            np.abs(predicted - actual) / \n",
    "            ((np.abs(predicted) + np.abs(actual))/2)\n",
    "        )*100, 2\n",
    "    )"
   ]
  },
  {
   "cell_type": "code",
   "execution_count": 51,
   "metadata": {},
   "outputs": [
    {
     "name": "stdout",
     "output_type": "stream",
     "text": [
      "\n",
      "MSE:\n",
      " 0.011070556671010895\n",
      "\n",
      "RMSE:\n",
      " 0.10521671288826169\n",
      "\n",
      "MAPE:\n",
      " 74.5299066779692\n",
      "\n",
      "SMAPE:\n",
      " 46.85\n",
      "\n",
      " Adj R2 score:\n",
      " 1.0\n"
     ]
    }
   ],
   "source": [
    "# RMSE (Root Mean Square Error)\n",
    "mse=mean_squared_error(y_test, y_pred)\n",
    "print(\"\\nMSE:\\n\",mse)\n",
    "rmse = np.sqrt(mean_squared_error(y_test, y_pred))\n",
    "print(\"\\nRMSE:\\n\",rmse)\n",
    "mape=mape(y_test, y_pred)\n",
    "print(\"\\nMAPE:\\n\",mape)\n",
    "\n",
    "smape = calculate_smape(y_test, y_pred)\n",
    "print(\"\\nSMAPE:\\n\",smape)\n",
    "r2_score=1 - (1-regr.score(X_train, y_train))*(len(y_train)-1)/(len(y_train)-X_train.shape[1]-1)\n",
    "print(\"\\n Adj R2 score:\\n\",r2_score)"
   ]
  },
  {
   "cell_type": "code",
   "execution_count": 52,
   "metadata": {},
   "outputs": [],
   "source": [
    "y_pred=scaler.inverse_transform(y_pred)\n",
    "y_test=scaler.inverse_transform(y_test)"
   ]
  },
  {
   "cell_type": "code",
   "execution_count": 53,
   "metadata": {},
   "outputs": [],
   "source": [
    "y_test=np.reshape(y_test,(8,))\n",
    "y_pred=np.reshape(y_pred,(8,))"
   ]
  },
  {
   "cell_type": "code",
   "execution_count": 54,
   "metadata": {},
   "outputs": [
    {
     "name": "stdout",
     "output_type": "stream",
     "text": [
      "   Actual Effort  Predicted effort\n",
      "0        17031.0           14568.0\n",
      "1        14504.0            8800.0\n",
      "2         2915.0            2240.0\n",
      "3         1105.0            3008.0\n",
      "4          796.0            1230.0\n",
      "5         1750.0            2240.0\n",
      "6         6030.0            8095.0\n",
      "7        26670.0           23000.0\n"
     ]
    }
   ],
   "source": [
    "dfr=pd.DataFrame({'Actual Effort':y_test, 'Predicted effort':y_pred})\n",
    "print(dfr)"
   ]
  },
  {
   "cell_type": "code",
   "execution_count": null,
   "metadata": {},
   "outputs": [],
   "source": []
  },
  {
   "cell_type": "code",
   "execution_count": 56,
   "metadata": {},
   "outputs": [
    {
     "data": {
      "image/png": "[encoded data removed]",
      "text/plain": [
       "<Figure size 1152x576 with 1 Axes>"
      ]
     },
     "metadata": {
      "needs_background": "light"
     },
     "output_type": "display_data"
    }
   ],
   "source": [
    "#Predicted vs Actual Close Value \n",
    "from matplotlib import pyplot as plt \n",
    "plt.figure(figsize=(16,8))\n",
    "plt.plot(y_test, label=\"Actual Value\")\n",
    "plt.plot(y_pred, label=\"Preidict\")\n",
    "plt.title(\"Prediction by Decision Tree\")\n",
    "plt.xlabel(\"Project\")\n",
    "plt.ylabel(\"Effort\")\n",
    "plt.legend()\n",
    "plt.show()"
   ]
  }
 ],
 "metadata": {
  "interpreter": {
   "hash": "2151b42579b4a137ca7c4186f7cd8603a15c6499005cacc37f762ae71ad2c0c8"
  },
  "kernelspec": {
   "display_name": "Python 3.10.1 64-bit",
   "language": "python",
   "name": "python3"
  },
  "language_info": {
   "codemirror_mode": {
    "name": "ipython",
    "version": 3
   },
   "file_extension": ".py",
   "mimetype": "text/x-python",
   "name": "python",
   "nbconvert_exporter": "python",
   "pygments_lexer": "ipython3",
   "version": "3.10.1"
  },
  "orig_nbformat": 4
 },
 "nbformat": 4,
 "nbformat_minor": 2
}
