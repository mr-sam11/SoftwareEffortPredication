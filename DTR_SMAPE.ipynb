{
 "cells": [
  {
   "cell_type": "code",
   "execution_count": 9,
   "metadata": {},
   "outputs": [],
   "source": [
    "# Importing the libraries\n",
    "import numpy as np \n",
    "import pandas as pd\n",
    "\n",
    "\n",
    "# scikit-learn modules\n",
    "from sklearn.model_selection import train_test_split\n",
    "from sklearn.metrics import mean_squared_error, r2_score\n",
    "from sklearn.preprocessing import MinMaxScaler\n",
    "\n",
    "# Reading the data\n",
    "dataset = pd.read_csv(\"Dataset/maxwell.arff.csv\")\n",
    "\n",
    "\n",
    "# Reading the data\n",
    "dataset = pd.read_csv(\"Dataset/maxwell.arff.csv\")\n",
    "\n",
    "\n",
    "\n",
    "x = np.array(dataset.drop(['Effort'],axis=1))\n",
    "y = np.array(dataset['Effort'])"
   ]
  },
  {
   "cell_type": "code",
   "execution_count": 10,
   "metadata": {},
   "outputs": [],
   "source": [
    "scaler=MinMaxScaler(feature_range=(0,1))\n",
    "x=scaler.fit_transform(x)\n",
    "y=np.reshape(y,(62,1))\n",
    "y=scaler.fit_transform(y)"
   ]
  },
  {
   "cell_type": "code",
   "execution_count": 11,
   "metadata": {},
   "outputs": [],
   "source": [
    "from sklearn.tree import DecisionTreeRegressor\n",
    "# Splitting the dataset into training and testing set (80/20)\n",
    "x_train, x_test, y_train, y_test = train_test_split(x, y, test_size = 0.2, random_state = 34)\n",
    "\n",
    "\n",
    "regressor = DecisionTreeRegressor()\n",
    "\n",
    "\n",
    "regressor.fit(x_train,y_train.ravel())\n",
    "\n",
    "# Predicting the target values of the test set\n",
    "\n",
    "y_pred=regressor.predict(x_test)\n"
   ]
  },
  {
   "cell_type": "code",
   "execution_count": 12,
   "metadata": {},
   "outputs": [
    {
     "name": "stdout",
     "output_type": "stream",
     "text": [
      "1.0\n"
     ]
    }
   ],
   "source": [
    "regressor.fit(x_train, y_train)\n",
    "print(regressor.score(x_train,y_train))"
   ]
  },
  {
   "cell_type": "code",
   "execution_count": 13,
   "metadata": {},
   "outputs": [
    {
     "name": "stdout",
     "output_type": "stream",
     "text": [
      "1.0\n"
     ]
    }
   ],
   "source": [
    "#accuracy on testdata on Model\n",
    "regressor.fit(x_test, y_test)\n",
    "print(regressor.score(x_test,y_test))"
   ]
  },
  {
   "cell_type": "code",
   "execution_count": 14,
   "metadata": {},
   "outputs": [
    {
     "data": {
      "text/plain": [
       "array([[0.61631094],\n",
       "       [0.01857046],\n",
       "       [0.14921329],\n",
       "       [0.58156264],\n",
       "       [0.00415142],\n",
       "       [0.12877311],\n",
       "       [0.05176594],\n",
       "       [0.32781924],\n",
       "       [0.        ],\n",
       "       [0.10882414],\n",
       "       [0.11937697],\n",
       "       [0.06136807],\n",
       "       [0.13534883]])"
      ]
     },
     "execution_count": 14,
     "metadata": {},
     "output_type": "execute_result"
    }
   ],
   "source": [
    "y_test"
   ]
  },
  {
   "cell_type": "code",
   "execution_count": 15,
   "metadata": {},
   "outputs": [],
   "source": [
    "y_pred=np.reshape(y_pred,(13,1))\n",
    "y_test=np.reshape(y_test,(13,1))"
   ]
  },
  {
   "cell_type": "code",
   "execution_count": 16,
   "metadata": {},
   "outputs": [
    {
     "data": {
      "text/plain": [
       "array([[0.61631094],\n",
       "       [0.01857046],\n",
       "       [0.14921329],\n",
       "       [0.58156264],\n",
       "       [0.00415142],\n",
       "       [0.12877311],\n",
       "       [0.05176594],\n",
       "       [0.32781924],\n",
       "       [0.        ],\n",
       "       [0.10882414],\n",
       "       [0.11937697],\n",
       "       [0.06136807],\n",
       "       [0.13534883]])"
      ]
     },
     "execution_count": 16,
     "metadata": {},
     "output_type": "execute_result"
    }
   ],
   "source": [
    "y_test"
   ]
  },
  {
   "cell_type": "code",
   "execution_count": 17,
   "metadata": {},
   "outputs": [],
   "source": [
    "def mape(actual, pred): \n",
    "    actual, pred = np.array(actual), np.array(pred)\n",
    "    return np.mean(np.abs((actual - pred) / actual)) * 100"
   ]
  },
  {
   "cell_type": "code",
   "execution_count": 18,
   "metadata": {},
   "outputs": [],
   "source": [
    "def calculate_smape(actual, predicted) -> float:\n",
    "  \n",
    "    # Convert actual and predicted to numpy\n",
    "    # array data type if not already\n",
    "    if not all([isinstance(actual, np.ndarray), \n",
    "                isinstance(predicted, np.ndarray)]):\n",
    "        actual, predicted = np.array(actual),\n",
    "        np.array(predicted)\n",
    "  \n",
    "    return round(\n",
    "        np.mean(\n",
    "            np.abs(predicted - actual) / \n",
    "            ((np.abs(predicted) + np.abs(actual))/2)\n",
    "        )*100, 2\n",
    "    )"
   ]
  },
  {
   "cell_type": "code",
   "execution_count": 19,
   "metadata": {},
   "outputs": [
    {
     "name": "stdout",
     "output_type": "stream",
     "text": [
      "\n",
      "MSE:\n",
      " 0.02711690621450225\n",
      "\n",
      "RMSE:\n",
      " 0.16467211729525508\n",
      "\n",
      "MAPE:\n",
      " inf\n",
      "\n",
      "SMAPE:\n",
      " 82.08\n",
      "\n",
      " Adj R2 score:\n",
      " 0.24163371458936267\n"
     ]
    },
    {
     "name": "stderr",
     "output_type": "stream",
     "text": [
      "C:\\Users\\sachi\\AppData\\Local\\Temp\\ipykernel_12740\\4261787059.py:3: RuntimeWarning: divide by zero encountered in true_divide\n",
      "  return np.mean(np.abs((actual - pred) / actual)) * 100\n"
     ]
    }
   ],
   "source": [
    "# RMSE (Root Mean Square Error)\n",
    "mse=mean_squared_error(y_test, y_pred)\n",
    "print(\"\\nMSE:\\n\",mse)\n",
    "rmse = np.sqrt(mean_squared_error(y_test, y_pred))\n",
    "print(\"\\nRMSE:\\n\",rmse)\n",
    "mape=mape(y_test, y_pred)\n",
    "print(\"\\nMAPE:\\n\",mape)\n",
    "\n",
    "smape = calculate_smape(y_test, y_pred)\n",
    "print(\"\\nSMAPE:\\n\",smape)\n",
    "r2_score=1 - (1-regressor.score(x_train, y_train))*(len(y_train)-1)/(len(y_train)-x_train.shape[1]-1)\n",
    "print(\"\\n Adj R2 score:\\n\",r2_score)"
   ]
  },
  {
   "cell_type": "code",
   "execution_count": 20,
   "metadata": {},
   "outputs": [],
   "source": [
    "y_pred=scaler.inverse_transform(y_pred)"
   ]
  },
  {
   "cell_type": "code",
   "execution_count": 21,
   "metadata": {},
   "outputs": [],
   "source": [
    "y_test=scaler.inverse_transform(y_test)"
   ]
  },
  {
   "cell_type": "code",
   "execution_count": 22,
   "metadata": {},
   "outputs": [],
   "source": [
    "y_test=np.reshape(y_test,(13,))\n",
    "y_pred=np.reshape(y_pred,(13,))"
   ]
  },
  {
   "cell_type": "code",
   "execution_count": 23,
   "metadata": {},
   "outputs": [
    {
     "name": "stdout",
     "output_type": "stream",
     "text": [
      "    Actual Effort  Predicted Effort\n",
      "0         39479.0           63694.0\n",
      "1          1755.0            4300.0\n",
      "2         10000.0            6800.0\n",
      "3         37286.0           18500.0\n",
      "4           845.0            1060.0\n",
      "5          8710.0            9700.0\n",
      "6          3850.0            1798.0\n",
      "7         21272.0            1798.0\n",
      "8           583.0            2330.0\n",
      "9          7451.0            1798.0\n",
      "10         8117.0            5787.0\n",
      "11         4456.0            2957.0\n",
      "12         9125.0           13700.0\n"
     ]
    }
   ],
   "source": [
    "dfr=pd.DataFrame({'Actual Effort':y_test, 'Predicted Effort':y_pred})\n",
    "print(dfr)"
   ]
  },
  {
   "cell_type": "code",
   "execution_count": 24,
   "metadata": {},
   "outputs": [
    {
     "data": {
      "image/png": "[encoded data removed]",
      "text/plain": [
       "<Figure size 720x576 with 1 Axes>"
      ]
     },
     "metadata": {
      "needs_background": "light"
     },
     "output_type": "display_data"
    }
   ],
   "source": [
    "#Predicted vs Actual Close Value \n",
    "from matplotlib import pyplot as plt \n",
    "plt.figure(figsize=(10,8))\n",
    "plt.plot(y_test, label=\"Actual Value\")\n",
    "plt.plot(y_pred, label=\"Tree value\")\n",
    "plt.title(\"Prediction by Decision Tree\")\n",
    "plt.xlabel(\"Project\")\n",
    "plt.ylabel(\"Effort\")\n",
    "plt.legend()\n",
    "plt.show()"
   ]
  }
 ],
 "metadata": {
  "interpreter": {
   "hash": "b89b5cfaba6639976dc87ff2fec6d58faec662063367e2c229c520fe71072417"
  },
  "kernelspec": {
   "display_name": "Python 3.10.1 64-bit",
   "language": "python",
   "name": "python3"
  },
  "language_info": {
   "codemirror_mode": {
    "name": "ipython",
    "version": 3
   },
   "file_extension": ".py",
   "mimetype": "text/x-python",
   "name": "python",
   "nbconvert_exporter": "python",
   "pygments_lexer": "ipython3",
   "version": "3.10.1"
  },
  "orig_nbformat": 4
 },
 "nbformat": 4,
 "nbformat_minor": 2
}
