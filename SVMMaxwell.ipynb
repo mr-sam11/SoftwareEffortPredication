{
 "cells": [
  {
   "cell_type": "code",
   "execution_count": 1,
   "metadata": {},
   "outputs": [],
   "source": [
    "# Importing the libraries\n",
    "import numpy as np \n",
    "import pandas as pd\n",
    "from sklearn.model_selection import train_test_split\n",
    "from sklearn.metrics import mean_squared_error, r2_score\n",
    "from sklearn.preprocessing import MinMaxScaler\n"
   ]
  },
  {
   "cell_type": "code",
   "execution_count": 2,
   "metadata": {},
   "outputs": [
    {
     "data": {
      "text/html": [
       "<div>\n",
       "<style scoped>\n",
       "    .dataframe tbody tr th:only-of-type {\n",
       "        vertical-align: middle;\n",
       "    }\n",
       "\n",
       "    .dataframe tbody tr th {\n",
       "        vertical-align: top;\n",
       "    }\n",
       "\n",
       "    .dataframe thead th {\n",
       "        text-align: right;\n",
       "    }\n",
       "</style>\n",
       "<table border=\"1\" class=\"dataframe\">\n",
       "  <thead>\n",
       "    <tr style=\"text-align: right;\">\n",
       "      <th></th>\n",
       "      <th>SizeFP</th>\n",
       "      <th>Nlan</th>\n",
       "      <th>T01</th>\n",
       "      <th>T02</th>\n",
       "      <th>T03</th>\n",
       "      <th>T04</th>\n",
       "      <th>T05</th>\n",
       "      <th>T06</th>\n",
       "      <th>T07</th>\n",
       "      <th>T08</th>\n",
       "      <th>T09</th>\n",
       "      <th>T10</th>\n",
       "      <th>T11</th>\n",
       "      <th>T12</th>\n",
       "      <th>T13</th>\n",
       "      <th>T14</th>\n",
       "      <th>T15</th>\n",
       "      <th>Effort</th>\n",
       "    </tr>\n",
       "  </thead>\n",
       "  <tbody>\n",
       "    <tr>\n",
       "      <th>0</th>\n",
       "      <td>647</td>\n",
       "      <td>3</td>\n",
       "      <td>4</td>\n",
       "      <td>3</td>\n",
       "      <td>5</td>\n",
       "      <td>3</td>\n",
       "      <td>3</td>\n",
       "      <td>3</td>\n",
       "      <td>4</td>\n",
       "      <td>5</td>\n",
       "      <td>4</td>\n",
       "      <td>5</td>\n",
       "      <td>4</td>\n",
       "      <td>4</td>\n",
       "      <td>4</td>\n",
       "      <td>4</td>\n",
       "      <td>5</td>\n",
       "      <td>7871</td>\n",
       "    </tr>\n",
       "    <tr>\n",
       "      <th>1</th>\n",
       "      <td>130</td>\n",
       "      <td>3</td>\n",
       "      <td>2</td>\n",
       "      <td>3</td>\n",
       "      <td>3</td>\n",
       "      <td>3</td>\n",
       "      <td>3</td>\n",
       "      <td>3</td>\n",
       "      <td>2</td>\n",
       "      <td>2</td>\n",
       "      <td>4</td>\n",
       "      <td>3</td>\n",
       "      <td>4</td>\n",
       "      <td>4</td>\n",
       "      <td>4</td>\n",
       "      <td>4</td>\n",
       "      <td>4</td>\n",
       "      <td>845</td>\n",
       "    </tr>\n",
       "    <tr>\n",
       "      <th>2</th>\n",
       "      <td>254</td>\n",
       "      <td>2</td>\n",
       "      <td>3</td>\n",
       "      <td>3</td>\n",
       "      <td>2</td>\n",
       "      <td>3</td>\n",
       "      <td>3</td>\n",
       "      <td>4</td>\n",
       "      <td>2</td>\n",
       "      <td>3</td>\n",
       "      <td>4</td>\n",
       "      <td>5</td>\n",
       "      <td>4</td>\n",
       "      <td>3</td>\n",
       "      <td>2</td>\n",
       "      <td>3</td>\n",
       "      <td>3</td>\n",
       "      <td>2330</td>\n",
       "    </tr>\n",
       "    <tr>\n",
       "      <th>3</th>\n",
       "      <td>1056</td>\n",
       "      <td>3</td>\n",
       "      <td>2</td>\n",
       "      <td>2</td>\n",
       "      <td>4</td>\n",
       "      <td>2</td>\n",
       "      <td>2</td>\n",
       "      <td>1</td>\n",
       "      <td>3</td>\n",
       "      <td>5</td>\n",
       "      <td>4</td>\n",
       "      <td>4</td>\n",
       "      <td>5</td>\n",
       "      <td>4</td>\n",
       "      <td>3</td>\n",
       "      <td>2</td>\n",
       "      <td>3</td>\n",
       "      <td>21272</td>\n",
       "    </tr>\n",
       "    <tr>\n",
       "      <th>4</th>\n",
       "      <td>383</td>\n",
       "      <td>2</td>\n",
       "      <td>3</td>\n",
       "      <td>3</td>\n",
       "      <td>3</td>\n",
       "      <td>4</td>\n",
       "      <td>3</td>\n",
       "      <td>3</td>\n",
       "      <td>4</td>\n",
       "      <td>3</td>\n",
       "      <td>4</td>\n",
       "      <td>4</td>\n",
       "      <td>3</td>\n",
       "      <td>4</td>\n",
       "      <td>5</td>\n",
       "      <td>4</td>\n",
       "      <td>4</td>\n",
       "      <td>4224</td>\n",
       "    </tr>\n",
       "  </tbody>\n",
       "</table>\n",
       "</div>"
      ],
      "text/plain": [
       "   SizeFP  Nlan  T01  T02  T03  T04  T05  T06  T07  T08  T09  T10  T11  T12  \\\n",
       "0     647     3    4    3    5    3    3    3    4    5    4    5    4    4   \n",
       "1     130     3    2    3    3    3    3    3    2    2    4    3    4    4   \n",
       "2     254     2    3    3    2    3    3    4    2    3    4    5    4    3   \n",
       "3    1056     3    2    2    4    2    2    1    3    5    4    4    5    4   \n",
       "4     383     2    3    3    3    4    3    3    4    3    4    4    3    4   \n",
       "\n",
       "   T13  T14  T15  Effort  \n",
       "0    4    4    5    7871  \n",
       "1    4    4    4     845  \n",
       "2    2    3    3    2330  \n",
       "3    3    2    3   21272  \n",
       "4    5    4    4    4224  "
      ]
     },
     "execution_count": 2,
     "metadata": {},
     "output_type": "execute_result"
    }
   ],
   "source": [
    "# Reading the data\n",
    "dataset = pd.read_csv(\"Dataset/maxwell.arff.csv\")\n",
    "dataset.head()\n",
    "\n",
    "\n"
   ]
  },
  {
   "cell_type": "code",
   "execution_count": 3,
   "metadata": {},
   "outputs": [],
   "source": [
    "\n",
    "dataset = pd.read_csv(\"Dataset/maxwell.arff.csv\")\n",
    "\n",
    "\n",
    "\n",
    "x = np.array(dataset.drop(['Effort'],axis=1))\n",
    "y = np.array(dataset['Effort'])"
   ]
  },
  {
   "cell_type": "markdown",
   "metadata": {},
   "source": [
    "Reading the data"
   ]
  },
  {
   "cell_type": "code",
   "execution_count": 4,
   "metadata": {},
   "outputs": [],
   "source": [
    "\n",
    "x=np.array(dataset.drop(['Effort'], axis=1))\n",
    "\n",
    "y=np.array(dataset['Effort'])\n"
   ]
  },
  {
   "cell_type": "markdown",
   "metadata": {},
   "source": [
    "Scaling the data"
   ]
  },
  {
   "cell_type": "code",
   "execution_count": 5,
   "metadata": {},
   "outputs": [],
   "source": [
    "scaler=MinMaxScaler(feature_range=(0,1))\n",
    "x_scaled=scaler.fit_transform(x)\n",
    "y=np.reshape(y,(62,1))\n",
    "y=scaler.fit_transform(y)"
   ]
  },
  {
   "cell_type": "markdown",
   "metadata": {},
   "source": [
    " Splitting the dataset into training and testing set (80/20)"
   ]
  },
  {
   "cell_type": "code",
   "execution_count": 6,
   "metadata": {},
   "outputs": [],
   "source": [
    "# Splitting the dataset into training and testing set (80/20)\n",
    "x_train, x_test, y_train, y_test = train_test_split(x_scaled, y, test_size = 0.2, random_state =30)"
   ]
  },
  {
   "cell_type": "code",
   "execution_count": 7,
   "metadata": {},
   "outputs": [
    {
     "data": {
      "text/plain": [
       "array([[0.10625869, 0.33333333, 0.        , 0.5       , 0.33333333,\n",
       "        0.33333333, 0.5       , 0.33333333, 0.75      , 1.        ,\n",
       "        0.33333333, 0.        , 0.33333333, 0.33333333, 0.5       ,\n",
       "        0.75      , 0.5       ],\n",
       "       [0.31265647, 0.66666667, 0.75      , 0.25      , 0.        ,\n",
       "        0.33333333, 0.75      , 1.        , 0.75      , 0.        ,\n",
       "        0.66666667, 0.        , 0.66666667, 0.33333333, 0.75      ,\n",
       "        0.5       , 0.75      ],\n",
       "       [0.09318498, 0.33333333, 0.5       , 0.5       , 0.33333333,\n",
       "        0.66666667, 0.5       , 0.66666667, 0.75      , 0.33333333,\n",
       "        0.66666667, 0.66666667, 0.33333333, 0.66666667, 1.        ,\n",
       "        0.75      , 0.75      ],\n",
       "       [0.80834492, 1.        , 0.75      , 0.75      , 0.        ,\n",
       "        0.33333333, 0.5       , 0.66666667, 0.75      , 0.33333333,\n",
       "        0.66666667, 0.66666667, 1.        , 0.33333333, 0.25      ,\n",
       "        0.5       , 0.5       ],\n",
       "       [0.12823366, 0.        , 0.25      , 0.5       , 0.33333333,\n",
       "        0.66666667, 0.5       , 0.66666667, 0.5       , 0.66666667,\n",
       "        0.66666667, 0.33333333, 0.        , 0.66666667, 0.75      ,\n",
       "        0.25      , 0.5       ],\n",
       "       [0.09513213, 0.66666667, 1.        , 1.        , 0.33333333,\n",
       "        0.33333333, 0.25      , 0.66666667, 0.75      , 1.        ,\n",
       "        1.        , 0.66666667, 0.66666667, 0.66666667, 0.5       ,\n",
       "        0.75      , 0.75      ],\n",
       "       [0.03699583, 0.33333333, 0.25      , 0.5       , 0.        ,\n",
       "        0.33333333, 0.5       , 0.66666667, 0.25      , 1.        ,\n",
       "        0.33333333, 0.66666667, 0.        , 0.33333333, 0.25      ,\n",
       "        0.5       , 0.5       ],\n",
       "       [0.0403338 , 0.33333333, 0.75      , 0.75      , 0.        ,\n",
       "        0.33333333, 0.75      , 0.66666667, 0.25      , 0.        ,\n",
       "        0.33333333, 0.33333333, 0.33333333, 0.33333333, 0.25      ,\n",
       "        0.75      , 0.75      ],\n",
       "       [0.09429764, 0.33333333, 0.25      , 0.75      , 0.33333333,\n",
       "        0.        , 0.25      , 0.33333333, 0.5       , 0.66666667,\n",
       "        1.        , 0.66666667, 0.66666667, 0.66666667, 0.5       ,\n",
       "        0.5       , 0.75      ],\n",
       "       [0.08261474, 1.        , 0.25      , 0.5       , 0.33333333,\n",
       "        0.33333333, 0.5       , 0.66666667, 0.25      , 0.        ,\n",
       "        0.66666667, 0.66666667, 0.66666667, 0.66666667, 0.75      ,\n",
       "        1.        , 0.75      ],\n",
       "       [0.41112656, 1.        , 0.75      , 0.5       , 0.        ,\n",
       "        0.33333333, 0.5       , 0.66666667, 0.5       , 0.33333333,\n",
       "        0.66666667, 0.33333333, 0.66666667, 0.66666667, 0.75      ,\n",
       "        0.5       , 0.5       ],\n",
       "       [0.22030598, 0.66666667, 0.75      , 0.25      , 0.66666667,\n",
       "        0.33333333, 1.        , 0.66666667, 0.75      , 1.        ,\n",
       "        1.        , 0.66666667, 0.33333333, 1.        , 0.75      ,\n",
       "        0.75      , 1.        ],\n",
       "       [0.13908206, 0.        , 0.5       , 0.5       , 0.66666667,\n",
       "        0.        , 0.5       , 0.33333333, 0.5       , 0.66666667,\n",
       "        0.33333333, 0.33333333, 0.33333333, 0.66666667, 0.75      ,\n",
       "        0.5       , 0.5       ],\n",
       "       [0.31515994, 0.33333333, 0.75      , 0.5       , 0.33333333,\n",
       "        0.        , 0.        , 0.33333333, 0.75      , 1.        ,\n",
       "        0.33333333, 0.        , 0.        , 0.        , 0.5       ,\n",
       "        0.75      , 0.25      ],\n",
       "       [0.92350487, 0.66666667, 0.75      , 0.5       , 0.33333333,\n",
       "        0.66666667, 0.5       , 0.66666667, 0.75      , 1.        ,\n",
       "        0.66666667, 0.66666667, 0.66666667, 0.66666667, 0.75      ,\n",
       "        0.25      , 0.75      ],\n",
       "       [0.08984701, 0.33333333, 0.5       , 0.75      , 0.33333333,\n",
       "        0.33333333, 0.5       , 0.66666667, 0.5       , 0.33333333,\n",
       "        1.        , 1.        , 0.        , 0.66666667, 0.5       ,\n",
       "        0.5       , 0.5       ],\n",
       "       [0.00305981, 0.66666667, 0.75      , 0.5       , 0.33333333,\n",
       "        0.33333333, 0.5       , 0.66666667, 0.25      , 0.33333333,\n",
       "        0.66666667, 0.33333333, 0.33333333, 0.66666667, 0.5       ,\n",
       "        0.5       , 0.5       ],\n",
       "       [0.05702364, 0.33333333, 0.5       , 0.5       , 0.33333333,\n",
       "        0.66666667, 0.5       , 1.        , 0.25      , 0.66666667,\n",
       "        0.66666667, 0.33333333, 0.        , 0.66666667, 0.75      ,\n",
       "        0.25      , 0.75      ],\n",
       "       [0.12433936, 0.66666667, 0.75      , 0.25      , 0.66666667,\n",
       "        0.33333333, 0.5       , 0.66666667, 0.5       , 0.33333333,\n",
       "        1.        , 0.33333333, 0.33333333, 0.66666667, 0.5       ,\n",
       "        0.75      , 0.75      ],\n",
       "       [0.03810848, 1.        , 0.5       , 0.75      , 0.        ,\n",
       "        0.33333333, 0.5       , 1.        , 0.5       , 1.        ,\n",
       "        0.33333333, 0.33333333, 0.33333333, 0.66666667, 0.75      ,\n",
       "        1.        , 0.5       ],\n",
       "       [0.05591099, 0.33333333, 0.25      , 0.5       , 0.        ,\n",
       "        0.66666667, 0.5       , 0.66666667, 0.5       , 1.        ,\n",
       "        0.66666667, 0.33333333, 0.33333333, 0.66666667, 0.25      ,\n",
       "        0.75      , 0.5       ],\n",
       "       [0.0581363 , 0.66666667, 0.5       , 0.75      , 0.33333333,\n",
       "        0.33333333, 0.5       , 0.66666667, 0.5       , 0.66666667,\n",
       "        0.66666667, 0.66666667, 0.66666667, 0.66666667, 0.75      ,\n",
       "        0.75      , 0.5       ],\n",
       "       [0.04534075, 0.        , 0.25      , 0.5       , 0.        ,\n",
       "        0.66666667, 0.5       , 0.66666667, 0.75      , 0.66666667,\n",
       "        0.66666667, 0.33333333, 0.        , 0.66666667, 0.5       ,\n",
       "        0.5       , 0.5       ],\n",
       "       [0.01668985, 0.33333333, 0.25      , 0.25      , 0.        ,\n",
       "        0.66666667, 0.5       , 0.66666667, 0.        , 0.66666667,\n",
       "        0.66666667, 0.33333333, 0.66666667, 0.66666667, 0.        ,\n",
       "        1.        , 0.        ],\n",
       "       [0.16662031, 0.66666667, 0.75      , 0.5       , 1.        ,\n",
       "        0.33333333, 0.5       , 0.66666667, 0.75      , 1.        ,\n",
       "        0.66666667, 1.        , 0.66666667, 0.66666667, 0.75      ,\n",
       "        0.75      , 1.        ],\n",
       "       [0.04116829, 0.66666667, 0.        , 0.75      , 0.        ,\n",
       "        0.33333333, 0.5       , 1.        , 0.25      , 0.33333333,\n",
       "        0.        , 0.33333333, 0.        , 0.66666667, 0.25      ,\n",
       "        0.75      , 0.5       ],\n",
       "       [0.04478442, 0.33333333, 0.75      , 0.5       , 1.        ,\n",
       "        0.66666667, 0.5       , 0.33333333, 0.5       , 1.        ,\n",
       "        1.        , 1.        , 0.33333333, 0.66666667, 0.75      ,\n",
       "        0.25      , 0.5       ],\n",
       "       [0.50097357, 1.        , 0.75      , 0.        , 0.33333333,\n",
       "        0.33333333, 0.5       , 1.        , 0.75      , 1.        ,\n",
       "        0.66666667, 0.66666667, 0.66666667, 0.66666667, 0.5       ,\n",
       "        0.5       , 0.75      ],\n",
       "       [0.10431154, 0.        , 0.25      , 0.5       , 0.33333333,\n",
       "        0.        , 0.25      , 0.33333333, 0.75      , 1.        ,\n",
       "        0.66666667, 0.33333333, 0.33333333, 0.66666667, 0.75      ,\n",
       "        0.25      , 0.5       ],\n",
       "       [0.07065369, 0.33333333, 0.25      , 0.5       , 0.        ,\n",
       "        0.66666667, 0.5       , 0.66666667, 0.5       , 0.66666667,\n",
       "        0.33333333, 0.33333333, 0.33333333, 0.33333333, 0.25      ,\n",
       "        0.75      , 0.5       ],\n",
       "       [0.10403338, 0.        , 0.5       , 0.5       , 0.33333333,\n",
       "        0.66666667, 0.5       , 0.66666667, 0.5       , 0.33333333,\n",
       "        1.        , 0.33333333, 0.66666667, 0.66666667, 0.5       ,\n",
       "        0.25      , 0.75      ],\n",
       "       [0.10737135, 1.        , 0.5       , 0.25      , 0.33333333,\n",
       "        0.33333333, 0.5       , 0.33333333, 0.75      , 1.        ,\n",
       "        0.66666667, 0.66666667, 0.66666667, 0.66666667, 0.75      ,\n",
       "        0.25      , 0.5       ],\n",
       "       [0.27454798, 1.        , 0.75      , 0.25      , 0.66666667,\n",
       "        0.33333333, 1.        , 0.66666667, 1.        , 0.33333333,\n",
       "        1.        , 1.        , 0.66666667, 1.        , 0.5       ,\n",
       "        0.75      , 1.        ],\n",
       "       [0.1596662 , 1.        , 0.25      , 0.5       , 0.33333333,\n",
       "        0.66666667, 0.5       , 0.66666667, 0.5       , 0.66666667,\n",
       "        0.66666667, 0.33333333, 0.66666667, 0.33333333, 0.25      ,\n",
       "        0.75      , 0.5       ],\n",
       "       [0.02280946, 0.66666667, 0.25      , 0.5       , 0.33333333,\n",
       "        0.33333333, 0.5       , 0.66666667, 0.25      , 0.        ,\n",
       "        0.66666667, 0.33333333, 0.66666667, 0.66666667, 0.75      ,\n",
       "        0.75      , 0.75      ],\n",
       "       [0.08845619, 0.        , 0.25      , 0.5       , 0.33333333,\n",
       "        0.        , 0.25      , 0.33333333, 0.75      , 1.        ,\n",
       "        0.66666667, 0.33333333, 0.33333333, 0.33333333, 0.5       ,\n",
       "        0.25      , 0.5       ],\n",
       "       [0.04979138, 0.33333333, 0.5       , 0.75      , 0.        ,\n",
       "        0.66666667, 0.5       , 0.66666667, 0.5       , 0.33333333,\n",
       "        1.        , 1.        , 0.33333333, 0.33333333, 0.25      ,\n",
       "        0.5       , 0.5       ],\n",
       "       [0.28038943, 0.66666667, 0.25      , 0.25      , 0.66666667,\n",
       "        0.        , 0.25      , 0.        , 0.5       , 1.        ,\n",
       "        0.66666667, 0.66666667, 1.        , 0.66666667, 0.5       ,\n",
       "        0.25      , 0.5       ],\n",
       "       [0.00472879, 0.66666667, 0.75      , 0.25      , 0.        ,\n",
       "        0.33333333, 0.5       , 0.33333333, 0.75      , 0.66666667,\n",
       "        0.66666667, 0.66666667, 0.33333333, 0.66666667, 0.75      ,\n",
       "        1.        , 0.5       ],\n",
       "       [0.67705146, 1.        , 0.75      , 0.5       , 0.66666667,\n",
       "        0.33333333, 0.75      , 1.        , 1.        , 0.66666667,\n",
       "        1.        , 0.66666667, 1.        , 1.        , 0.5       ,\n",
       "        0.        , 0.75      ],\n",
       "       [0.07426982, 0.33333333, 0.75      , 0.5       , 1.        ,\n",
       "        0.33333333, 0.5       , 0.66666667, 0.75      , 1.        ,\n",
       "        0.66666667, 0.33333333, 0.33333333, 0.66666667, 0.5       ,\n",
       "        0.5       , 0.5       ],\n",
       "       [0.05730181, 0.33333333, 0.5       , 0.5       , 0.        ,\n",
       "        0.33333333, 0.5       , 1.        , 0.25      , 0.33333333,\n",
       "        0.66666667, 1.        , 0.66666667, 0.33333333, 0.25      ,\n",
       "        0.5       , 0.5       ],\n",
       "       [0.14436718, 1.        , 0.25      , 0.25      , 0.        ,\n",
       "        0.66666667, 0.5       , 0.66666667, 0.75      , 0.66666667,\n",
       "        1.        , 1.        , 1.        , 0.66666667, 0.25      ,\n",
       "        0.25      , 0.75      ],\n",
       "       [0.        , 0.66666667, 0.25      , 0.5       , 0.33333333,\n",
       "        0.66666667, 0.25      , 0.33333333, 0.25      , 0.66666667,\n",
       "        0.66666667, 0.33333333, 1.        , 0.33333333, 0.5       ,\n",
       "        0.75      , 0.25      ],\n",
       "       [0.1488178 , 0.66666667, 0.        , 0.75      , 0.66666667,\n",
       "        0.        , 0.5       , 0.66666667, 0.25      , 0.33333333,\n",
       "        0.        , 0.        , 0.        , 0.66666667, 1.        ,\n",
       "        0.5       , 0.5       ],\n",
       "       [0.0433936 , 0.33333333, 0.5       , 0.5       , 0.33333333,\n",
       "        0.33333333, 0.5       , 1.        , 0.75      , 1.        ,\n",
       "        1.        , 1.        , 1.        , 0.66666667, 0.5       ,\n",
       "        0.25      , 0.5       ],\n",
       "       [0.28094576, 0.66666667, 0.75      , 0.75      , 0.33333333,\n",
       "        1.        , 0.75      , 1.        , 1.        , 0.33333333,\n",
       "        0.66666667, 0.66666667, 0.33333333, 1.        , 0.25      ,\n",
       "        0.75      , 0.75      ],\n",
       "       [1.        , 0.66666667, 0.25      , 0.75      , 0.33333333,\n",
       "        0.33333333, 0.5       , 0.66666667, 0.75      , 0.33333333,\n",
       "        1.        , 1.        , 1.        , 0.66666667, 0.75      ,\n",
       "        1.        , 0.75      ],\n",
       "       [0.55799722, 0.66666667, 0.75      , 0.5       , 0.66666667,\n",
       "        0.66666667, 0.75      , 0.66666667, 0.5       , 0.66666667,\n",
       "        0.66666667, 0.66666667, 1.        , 1.        , 0.75      ,\n",
       "        0.5       , 0.75      ]])"
      ]
     },
     "execution_count": 7,
     "metadata": {},
     "output_type": "execute_result"
    }
   ],
   "source": [
    "x_train"
   ]
  },
  {
   "cell_type": "markdown",
   "metadata": {},
   "source": [
    " SVM Model"
   ]
  },
  {
   "cell_type": "code",
   "execution_count": 8,
   "metadata": {},
   "outputs": [
    {
     "data": {
      "text/plain": [
       "SVR(C=1000.0, gamma=0.1)"
      ]
     },
     "execution_count": 8,
     "metadata": {},
     "output_type": "execute_result"
    }
   ],
   "source": [
    "# SVM Model\n",
    "from sklearn.svm import SVR\n",
    "svr = SVR(kernel='rbf', C=1e3, gamma=0.1)\n",
    "# Train the model \n",
    "svr.fit(x_train, y_train.ravel())"
   ]
  },
  {
   "cell_type": "markdown",
   "metadata": {},
   "source": [
    "Predicting the Close Price"
   ]
  },
  {
   "cell_type": "code",
   "execution_count": 9,
   "metadata": {},
   "outputs": [],
   "source": [
    "# Predicting the target values of the test set\n",
    "y_pred = svr.predict(x_test)"
   ]
  },
  {
   "cell_type": "code",
   "execution_count": 10,
   "metadata": {},
   "outputs": [],
   "source": [
    "y_pred=np.reshape(y_pred,(13,1))\n",
    "y_test=np.reshape(y_test,(13,1))"
   ]
  },
  {
   "cell_type": "markdown",
   "metadata": {},
   "source": [
    "Finding the RMSE and MAPE"
   ]
  },
  {
   "cell_type": "markdown",
   "metadata": {},
   "source": [
    "Definition of Mean Absolute Percentage Error"
   ]
  },
  {
   "cell_type": "code",
   "execution_count": 11,
   "metadata": {},
   "outputs": [],
   "source": [
    "def mape(actual, pred): \n",
    "    actual, pred = np.array(actual), np.array(pred)\n",
    "    return np.mean(np.abs((actual - pred) / actual)) * 100"
   ]
  },
  {
   "cell_type": "code",
   "execution_count": 12,
   "metadata": {},
   "outputs": [
    {
     "name": "stdout",
     "output_type": "stream",
     "text": [
      "\n",
      "MSE:\n",
      " 0.0037270568990080506\n",
      "\n",
      "RMSE:\n",
      " 0.0610496265263601\n",
      "\n",
      "MAPE:\n",
      " 259.76565740054605\n",
      "\n",
      "SMAPE:\n",
      " 105.28\n",
      "\n",
      " Adj R2 score:\n",
      " 0.7363950723380626\n"
     ]
    }
   ],
   "source": [
    "\n",
    "def calculate_smape(actual, predicted) -> float:\n",
    "  \n",
    "    # Convert actual and predicted to numpy\n",
    "    # array data type if not already\n",
    "    if not all([isinstance(actual, np.ndarray), \n",
    "                isinstance(predicted, np.ndarray)]):\n",
    "        actual, predicted = np.array(actual),\n",
    "        np.array(predicted)\n",
    "  \n",
    "    return round(\n",
    "        np.mean(\n",
    "            np.abs(predicted - actual) / \n",
    "            ((np.abs(predicted) + np.abs(actual))/2)\n",
    "        )*100, 2\n",
    "    )\n",
    "# RMSE (Root Mean Square Error)\n",
    "mse=mean_squared_error(y_test, y_pred)\n",
    "print(\"\\nMSE:\\n\",mse)\n",
    "rmse = np.sqrt(mean_squared_error(y_test, y_pred))\n",
    "print(\"\\nRMSE:\\n\",rmse)\n",
    "mape=mape(y_test, y_pred)\n",
    "print(\"\\nMAPE:\\n\",mape)\n",
    "\n",
    "smape = calculate_smape(y_test, y_pred)\n",
    "print(\"\\nSMAPE:\\n\",smape)\n",
    "r2_score=1 - (1-svr.score(x_train, y_train))*(len(y_train)-1)/(len(y_train)-x_train.shape[1]-1)\n",
    "print(\"\\n Adj R2 score:\\n\",r2_score)"
   ]
  },
  {
   "cell_type": "code",
   "execution_count": 13,
   "metadata": {},
   "outputs": [],
   "source": [
    "\n",
    "y_pred=scaler.inverse_transform(y_pred)"
   ]
  },
  {
   "cell_type": "code",
   "execution_count": 14,
   "metadata": {},
   "outputs": [],
   "source": [
    "\n",
    "\n",
    "y_test=scaler.inverse_transform(y_test)"
   ]
  },
  {
   "cell_type": "code",
   "execution_count": 15,
   "metadata": {},
   "outputs": [],
   "source": [
    "\n",
    "y_test=np.reshape(y_test,(13,))\n",
    "y_pred=np.reshape(y_pred,(13,))"
   ]
  },
  {
   "cell_type": "code",
   "execution_count": 16,
   "metadata": {},
   "outputs": [
    {
     "name": "stdout",
     "output_type": "stream",
     "text": [
      "    Actual Effort  Predicted Effort\n",
      "0          4150.0       6193.949944\n",
      "1         10000.0      11175.148727\n",
      "2          5100.0       2085.659451\n",
      "3           963.0       5325.572263\n",
      "4          4456.0      -1589.086814\n",
      "5          9369.0       7525.786085\n",
      "6          3440.0      -2277.275855\n",
      "7          5279.0       1918.513191\n",
      "8          7184.0      11584.649446\n",
      "9          1100.0      -1817.975047\n",
      "10         7451.0       5347.258947\n",
      "11         1233.0      -5027.080446\n",
      "12        11039.0       9066.450437\n"
     ]
    }
   ],
   "source": [
    "dfr=pd.DataFrame({'Actual Effort':y_test, 'Predicted Effort':y_pred})\n",
    "print(dfr)"
   ]
  },
  {
   "cell_type": "code",
   "execution_count": 17,
   "metadata": {},
   "outputs": [
    {
     "data": {
      "image/png": "[encoded data removed]",
      "text/plain": [
       "<Figure size 720x576 with 1 Axes>"
      ]
     },
     "metadata": {
      "needs_background": "light"
     },
     "output_type": "display_data"
    }
   ],
   "source": [
    "#Predicted vs Actual Close Value \n",
    "from matplotlib import pyplot as plt \n",
    "plt.figure(figsize=(10,8))\n",
    "plt.plot(y_test, label=\"Actual Value\")\n",
    "plt.plot(y_pred, label=\"SVM value\")\n",
    "plt.title(\"Prediction by SVM\")\n",
    "plt.xlabel(\"Projects\")\n",
    "plt.ylabel(\"Effort\")\n",
    "plt.legend()\n",
    "plt.show()"
   ]
  }
 ],
 "metadata": {
  "interpreter": {
   "hash": "2151b42579b4a137ca7c4186f7cd8603a15c6499005cacc37f762ae71ad2c0c8"
  },
  "kernelspec": {
   "display_name": "Python 3.10.1 64-bit",
   "language": "python",
   "name": "python3"
  },
  "language_info": {
   "codemirror_mode": {
    "name": "ipython",
    "version": 3
   },
   "file_extension": ".py",
   "mimetype": "text/x-python",
   "name": "python",
   "nbconvert_exporter": "python",
   "pygments_lexer": "ipython3",
   "version": "3.10.1"
  },
  "orig_nbformat": 4
 },
 "nbformat": 4,
 "nbformat_minor": 2
}
