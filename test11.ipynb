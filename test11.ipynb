{
 "cells": [
  {
   "cell_type": "code",
   "execution_count": 6,
   "metadata": {},
   "outputs": [
    {
     "ename": "AttributeError",
     "evalue": "'numpy.ndarray' object has no attribute 'Categorical'",
     "output_type": "error",
     "traceback": [
      "\u001b[1;31m---------------------------------------------------------------------------\u001b[0m",
      "\u001b[1;31mAttributeError\u001b[0m                            Traceback (most recent call last)",
      "\u001b[1;32mc:\\Users\\sachi\\Desktop\\Project Work\\SoftwareEffortEstimatio2222\\test11.ipynb Cell 1'\u001b[0m in \u001b[0;36m<module>\u001b[1;34m\u001b[0m\n\u001b[0;32m     <a href='vscode-notebook-cell:/c%3A/Users/sachi/Desktop/Project%20Work/SoftwareEffortEstimatio2222/test11.ipynb#ch0000000?line=20'>21</a>\u001b[0m x \u001b[39m=\u001b[39m np\u001b[39m.\u001b[39marray(df_desharnais\u001b[39m.\u001b[39mdrop([\u001b[39m'\u001b[39m\u001b[39mEffort\u001b[39m\u001b[39m'\u001b[39m],axis\u001b[39m=\u001b[39m\u001b[39m1\u001b[39m))\n\u001b[0;32m     <a href='vscode-notebook-cell:/c%3A/Users/sachi/Desktop/Project%20Work/SoftwareEffortEstimatio2222/test11.ipynb#ch0000000?line=21'>22</a>\u001b[0m y \u001b[39m=\u001b[39m np\u001b[39m.\u001b[39marray(df_desharnais[\u001b[39m'\u001b[39m\u001b[39mEffort\u001b[39m\u001b[39m'\u001b[39m])\n\u001b[1;32m---> <a href='vscode-notebook-cell:/c%3A/Users/sachi/Desktop/Project%20Work/SoftwareEffortEstimatio2222/test11.ipynb#ch0000000?line=25'>26</a>\u001b[0m categoricalcolumns \u001b[39m=\u001b[39m x\u001b[39m.\u001b[39;49mCategorical()\n\u001b[0;32m     <a href='vscode-notebook-cell:/c%3A/Users/sachi/Desktop/Project%20Work/SoftwareEffortEstimatio2222/test11.ipynb#ch0000000?line=26'>27</a>\u001b[0m \u001b[39mprint\u001b[39m(\u001b[39m\"\u001b[39m\u001b[39mNames of categorical columns : \u001b[39m\u001b[39m\"\u001b[39m, categoricalcolumns)\n\u001b[0;32m     <a href='vscode-notebook-cell:/c%3A/Users/sachi/Desktop/Project%20Work/SoftwareEffortEstimatio2222/test11.ipynb#ch0000000?line=29'>30</a>\u001b[0m \u001b[39m# df_desharnais.head()\u001b[39;00m\n\u001b[0;32m     <a href='vscode-notebook-cell:/c%3A/Users/sachi/Desktop/Project%20Work/SoftwareEffortEstimatio2222/test11.ipynb#ch0000000?line=30'>31</a>\u001b[0m \n\u001b[0;32m     <a href='vscode-notebook-cell:/c%3A/Users/sachi/Desktop/Project%20Work/SoftwareEffortEstimatio2222/test11.ipynb#ch0000000?line=31'>32</a>\u001b[0m \u001b[39m# df_desharnais.corr()\u001b[39;00m\n\u001b[1;32m   (...)\u001b[0m\n\u001b[0;32m     <a href='vscode-notebook-cell:/c%3A/Users/sachi/Desktop/Project%20Work/SoftwareEffortEstimatio2222/test11.ipynb#ch0000000?line=35'>36</a>\u001b[0m \u001b[39m# sns.set(font_scale=1.05)\u001b[39;00m\n\u001b[0;32m     <a href='vscode-notebook-cell:/c%3A/Users/sachi/Desktop/Project%20Work/SoftwareEffortEstimatio2222/test11.ipynb#ch0000000?line=36'>37</a>\u001b[0m \u001b[39m# sns.heatmap(df_desharnais.drop(['T02'], axis=1).astype(float).corr(),linewidths=0.1,vmax=1.0, square=True,cmap=colormap, linecolor='white', annot=True)\u001b[39;00m\n",
      "\u001b[1;31mAttributeError\u001b[0m: 'numpy.ndarray' object has no attribute 'Categorical'"
     ]
    }
   ],
   "source": [
    "import math\n",
    "from scipy.io import arff\n",
    "from scipy.stats.stats import pearsonr\n",
    "import pandas as pd\n",
    "import numpy as np\n",
    "\n",
    "from sklearn.linear_model import LinearRegression\n",
    "from sklearn.neighbors import KNeighborsRegressor\n",
    "from sklearn.model_selection import GridSearchCV\n",
    "from sklearn.svm import SVR\n",
    "from sklearn.model_selection import train_test_split\n",
    "\n",
    "# Formatação mais bonita para os notebooks\n",
    "import seaborn as sns\n",
    "import matplotlib.pyplot as plt\n",
    "%matplotlib inline\n",
    "plt.style.use('fivethirtyeight')\n",
    "plt.rcParams['figure.figsize'] = (15,5)\n",
    "\n",
    "df_desharnais = pd.read_csv('Dataset/maxwell.arff.csv',  header=0)\n",
    "df_desharnais.head()\n",
    "\n",
    "df_desharnais.corr()\n",
    "colormap = plt.cm.viridis\n",
    "plt.figure(figsize=(12,12))\n",
    "plt.title('Pearson Correlation of Features', y=1.05, size=15)\n",
    "sns.set(font_scale=1.05)\n",
    "sns.heatmap(df_desharnais.drop(['T02'], axis=1).astype(float).corr(),linewidths=0.1,vmax=1.0, square=True,cmap=colormap, linecolor='white', annot=True)"
   ]
  },
  {
   "cell_type": "code",
   "execution_count": null,
   "metadata": {},
   "outputs": [],
   "source": []
  }
 ],
 "metadata": {
  "interpreter": {
   "hash": "acd198aa1acf5f2ce2fd58cf1bbe9d65817559f10f65776da8cb760e3e287fb4"
  },
  "kernelspec": {
   "display_name": "Python 3.10.1 64-bit",
   "language": "python",
   "name": "python3"
  },
  "language_info": {
   "codemirror_mode": {
    "name": "ipython",
    "version": 3
   },
   "file_extension": ".py",
   "mimetype": "text/x-python",
   "name": "python",
   "nbconvert_exporter": "python",
   "pygments_lexer": "ipython3",
   "version": "3.10.1"
  },
  "orig_nbformat": 4
 },
 "nbformat": 4,
 "nbformat_minor": 2
}
